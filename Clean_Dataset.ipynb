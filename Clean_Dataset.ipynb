{
 "cells": [
  {
   "cell_type": "code",
   "execution_count": 1,
   "metadata": {},
   "outputs": [],
   "source": [
    "import pandas as pd\n",
    "import numpy as np\n",
    "import re"
   ]
  },
  {
   "cell_type": "code",
   "execution_count": 18,
   "metadata": {},
   "outputs": [],
   "source": [
    "df = pd.read_csv('df.items.csv')"
   ]
  },
  {
   "cell_type": "code",
   "execution_count": 19,
   "metadata": {},
   "outputs": [
    {
     "data": {
      "text/plain": [
       "Item        object\n",
       "Price      float64\n",
       "Reviews    float64\n",
       "Images      object\n",
       "dtype: object"
      ]
     },
     "execution_count": 19,
     "metadata": {},
     "output_type": "execute_result"
    }
   ],
   "source": [
    "df.dtypes"
   ]
  },
  {
   "cell_type": "code",
   "execution_count": 36,
   "metadata": {},
   "outputs": [],
   "source": [
    "df.dropna(inplace=True)"
   ]
  },
  {
   "cell_type": "code",
   "execution_count": 37,
   "metadata": {},
   "outputs": [
    {
     "data": {
      "text/plain": [
       "0     795\n",
       "1     110\n",
       "2     269\n",
       "3     107\n",
       "4      19\n",
       "5     107\n",
       "6       3\n",
       "7     269\n",
       "8     187\n",
       "9       3\n",
       "10      7\n",
       "11      5\n",
       "12      8\n",
       "13     92\n",
       "14    187\n",
       "15    103\n",
       "16      8\n",
       "17     33\n",
       "18    173\n",
       "19    823\n",
       "20    612\n",
       "21    173\n",
       "22      7\n",
       "23    114\n",
       "24     20\n",
       "25     51\n",
       "26      3\n",
       "27      8\n",
       "28     40\n",
       "29      7\n",
       "30    203\n",
       "31     77\n",
       "32    600\n",
       "33     14\n",
       "34     87\n",
       "35    187\n",
       "36      3\n",
       "37      8\n",
       "38      3\n",
       "Name: Reviews, dtype: int64"
      ]
     },
     "execution_count": 37,
     "metadata": {},
     "output_type": "execute_result"
    }
   ],
   "source": [
    "df['Reviews'].astype('int64')"
   ]
  },
  {
   "cell_type": "code",
   "execution_count": 42,
   "metadata": {},
   "outputs": [
    {
     "data": {
      "text/plain": [
       "Item        object\n",
       "Price      float64\n",
       "Reviews    float64\n",
       "Images      object\n",
       "dtype: object"
      ]
     },
     "execution_count": 42,
     "metadata": {},
     "output_type": "execute_result"
    }
   ],
   "source": [
    "df.dtypes"
   ]
  },
  {
   "cell_type": "code",
   "execution_count": 44,
   "metadata": {},
   "outputs": [
    {
     "data": {
      "text/html": [
       "<div>\n",
       "<style scoped>\n",
       "    .dataframe tbody tr th:only-of-type {\n",
       "        vertical-align: middle;\n",
       "    }\n",
       "\n",
       "    .dataframe tbody tr th {\n",
       "        vertical-align: top;\n",
       "    }\n",
       "\n",
       "    .dataframe thead th {\n",
       "        text-align: right;\n",
       "    }\n",
       "</style>\n",
       "<table border=\"1\" class=\"dataframe\">\n",
       "  <thead>\n",
       "    <tr style=\"text-align: right;\">\n",
       "      <th></th>\n",
       "      <th>Price</th>\n",
       "      <th>Reviews</th>\n",
       "    </tr>\n",
       "  </thead>\n",
       "  <tbody>\n",
       "    <tr>\n",
       "      <th>count</th>\n",
       "      <td>39.000000</td>\n",
       "      <td>39.000000</td>\n",
       "    </tr>\n",
       "    <tr>\n",
       "      <th>mean</th>\n",
       "      <td>500.981282</td>\n",
       "      <td>141.666667</td>\n",
       "    </tr>\n",
       "    <tr>\n",
       "      <th>std</th>\n",
       "      <td>410.933847</td>\n",
       "      <td>211.459257</td>\n",
       "    </tr>\n",
       "    <tr>\n",
       "      <th>min</th>\n",
       "      <td>15.980000</td>\n",
       "      <td>3.000000</td>\n",
       "    </tr>\n",
       "    <tr>\n",
       "      <th>25%</th>\n",
       "      <td>204.495000</td>\n",
       "      <td>8.000000</td>\n",
       "    </tr>\n",
       "    <tr>\n",
       "      <th>50%</th>\n",
       "      <td>439.990000</td>\n",
       "      <td>77.000000</td>\n",
       "    </tr>\n",
       "    <tr>\n",
       "      <th>75%</th>\n",
       "      <td>645.280000</td>\n",
       "      <td>180.000000</td>\n",
       "    </tr>\n",
       "    <tr>\n",
       "      <th>max</th>\n",
       "      <td>2198.990000</td>\n",
       "      <td>823.000000</td>\n",
       "    </tr>\n",
       "  </tbody>\n",
       "</table>\n",
       "</div>"
      ],
      "text/plain": [
       "             Price     Reviews\n",
       "count    39.000000   39.000000\n",
       "mean    500.981282  141.666667\n",
       "std     410.933847  211.459257\n",
       "min      15.980000    3.000000\n",
       "25%     204.495000    8.000000\n",
       "50%     439.990000   77.000000\n",
       "75%     645.280000  180.000000\n",
       "max    2198.990000  823.000000"
      ]
     },
     "execution_count": 44,
     "metadata": {},
     "output_type": "execute_result"
    }
   ],
   "source": [
    "df.describe()"
   ]
  },
  {
   "cell_type": "code",
   "execution_count": 52,
   "metadata": {},
   "outputs": [],
   "source": [
    "df.sort_values(by=['Price','Reviews'], ascending=False,inplace=True)"
   ]
  },
  {
   "cell_type": "code",
   "execution_count": 56,
   "metadata": {},
   "outputs": [],
   "source": [
    "df.reset_index(drop=True,inplace=True)"
   ]
  },
  {
   "cell_type": "code",
   "execution_count": 59,
   "metadata": {},
   "outputs": [
    {
     "data": {
      "text/html": [
       "<div>\n",
       "<style scoped>\n",
       "    .dataframe tbody tr th:only-of-type {\n",
       "        vertical-align: middle;\n",
       "    }\n",
       "\n",
       "    .dataframe tbody tr th {\n",
       "        vertical-align: top;\n",
       "    }\n",
       "\n",
       "    .dataframe thead th {\n",
       "        text-align: right;\n",
       "    }\n",
       "</style>\n",
       "<table border=\"1\" class=\"dataframe\">\n",
       "  <thead>\n",
       "    <tr style=\"text-align: right;\">\n",
       "      <th></th>\n",
       "      <th>Item</th>\n",
       "      <th>Price</th>\n",
       "      <th>Reviews</th>\n",
       "      <th>Images</th>\n",
       "    </tr>\n",
       "  </thead>\n",
       "  <tbody>\n",
       "    <tr>\n",
       "      <th>0</th>\n",
       "      <td>Samsung Crystal UHD 2020 43TU8005 - Smart TV d...</td>\n",
       "      <td>2198.99</td>\n",
       "      <td>8.0</td>\n",
       "      <td>https://m.media-amazon.com/images/I/71o2RZa2aB...</td>\n",
       "    </tr>\n",
       "    <tr>\n",
       "      <th>1</th>\n",
       "      <td>Samsung Crystal UHD 2020 65TU7105- Smart TV de...</td>\n",
       "      <td>1259.99</td>\n",
       "      <td>600.0</td>\n",
       "      <td>https://m.media-amazon.com/images/I/71UxiUNUPt...</td>\n",
       "    </tr>\n",
       "    <tr>\n",
       "      <th>2</th>\n",
       "      <td>LG 24MT49S-PZ - Monitor TV de 24\" (60 cm, Smar...</td>\n",
       "      <td>1198.90</td>\n",
       "      <td>77.0</td>\n",
       "      <td>https://m.media-amazon.com/images/I/51STl+QNTP...</td>\n",
       "    </tr>\n",
       "    <tr>\n",
       "      <th>3</th>\n",
       "      <td>Samsung Crystal UHD 2020 55TU8505 - Smart TV d...</td>\n",
       "      <td>838.90</td>\n",
       "      <td>92.0</td>\n",
       "      <td>https://m.media-amazon.com/images/I/71hTqzmmYT...</td>\n",
       "    </tr>\n",
       "    <tr>\n",
       "      <th>4</th>\n",
       "      <td>Samsung Crystal UHD 2020 50TU8505 - Smart TV d...</td>\n",
       "      <td>838.90</td>\n",
       "      <td>8.0</td>\n",
       "      <td>https://m.media-amazon.com/images/I/71hTqzmmYT...</td>\n",
       "    </tr>\n",
       "  </tbody>\n",
       "</table>\n",
       "</div>"
      ],
      "text/plain": [
       "                                                Item    Price  Reviews  \\\n",
       "0  Samsung Crystal UHD 2020 43TU8005 - Smart TV d...  2198.99      8.0   \n",
       "1  Samsung Crystal UHD 2020 65TU7105- Smart TV de...  1259.99    600.0   \n",
       "2  LG 24MT49S-PZ - Monitor TV de 24\" (60 cm, Smar...  1198.90     77.0   \n",
       "3  Samsung Crystal UHD 2020 55TU8505 - Smart TV d...   838.90     92.0   \n",
       "4  Samsung Crystal UHD 2020 50TU8505 - Smart TV d...   838.90      8.0   \n",
       "\n",
       "                                              Images  \n",
       "0  https://m.media-amazon.com/images/I/71o2RZa2aB...  \n",
       "1  https://m.media-amazon.com/images/I/71UxiUNUPt...  \n",
       "2  https://m.media-amazon.com/images/I/51STl+QNTP...  \n",
       "3  https://m.media-amazon.com/images/I/71hTqzmmYT...  \n",
       "4  https://m.media-amazon.com/images/I/71hTqzmmYT...  "
      ]
     },
     "execution_count": 59,
     "metadata": {},
     "output_type": "execute_result"
    }
   ],
   "source": [
    "df.head(5)"
   ]
  }
 ],
 "metadata": {
  "kernelspec": {
   "display_name": "Python 3",
   "language": "python",
   "name": "python3"
  },
  "language_info": {
   "codemirror_mode": {
    "name": "ipython",
    "version": 3
   },
   "file_extension": ".py",
   "mimetype": "text/x-python",
   "name": "python",
   "nbconvert_exporter": "python",
   "pygments_lexer": "ipython3",
   "version": "3.8.2"
  }
 },
 "nbformat": 4,
 "nbformat_minor": 4
}
