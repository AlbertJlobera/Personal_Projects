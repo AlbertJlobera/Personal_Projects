{
 "cells": [
  {
   "cell_type": "code",
   "execution_count": 1,
   "metadata": {},
   "outputs": [],
   "source": [
    "from time import sleep\n",
    "from selenium import webdriver\n",
    "from selenium.webdriver.common.by import By\n",
    "from selenium.webdriver.support.ui import WebDriverWait\n",
    "from selenium.webdriver.support import expected_conditions as EC\n",
    "from selenium import webdriver\n",
    "from time import sleep\n",
    "import requests\n",
    "import pandas as pd\n",
    "from bs4 import BeautifulSoup"
   ]
  },
  {
   "cell_type": "code",
   "execution_count": 2,
   "metadata": {},
   "outputs": [],
   "source": [
    "df = pd.read_csv('Email_1.csv')"
   ]
  },
  {
   "cell_type": "code",
   "execution_count": 3,
   "metadata": {},
   "outputs": [
    {
     "data": {
      "text/html": [
       "<div>\n",
       "<style scoped>\n",
       "    .dataframe tbody tr th:only-of-type {\n",
       "        vertical-align: middle;\n",
       "    }\n",
       "\n",
       "    .dataframe tbody tr th {\n",
       "        vertical-align: top;\n",
       "    }\n",
       "\n",
       "    .dataframe thead th {\n",
       "        text-align: right;\n",
       "    }\n",
       "</style>\n",
       "<table border=\"1\" class=\"dataframe\">\n",
       "  <thead>\n",
       "    <tr style=\"text-align: right;\">\n",
       "      <th></th>\n",
       "      <th>Price</th>\n",
       "      <th>Item</th>\n",
       "    </tr>\n",
       "  </thead>\n",
       "  <tbody>\n",
       "    <tr>\n",
       "      <th>0</th>\n",
       "      <td>5124.43</td>\n",
       "      <td>Apple MacBook Pro 16\" - Silber 2019 MVVL2D/A i...</td>\n",
       "    </tr>\n",
       "    <tr>\n",
       "      <th>1</th>\n",
       "      <td>3057.92</td>\n",
       "      <td>Apple MacBook Pro 16\" - Silber 2019 MVVM2D/A i...</td>\n",
       "    </tr>\n",
       "    <tr>\n",
       "      <th>2</th>\n",
       "      <td>3057.92</td>\n",
       "      <td>Apple MacBook Pro 16\" - Space Grau 2019 MVVK2D...</td>\n",
       "    </tr>\n",
       "    <tr>\n",
       "      <th>3</th>\n",
       "      <td>2859.00</td>\n",
       "      <td>Nuevo Apple MacBook Pro (de 16 pulgadas, 16 GB...</td>\n",
       "    </tr>\n",
       "    <tr>\n",
       "      <th>4</th>\n",
       "      <td>2699.00</td>\n",
       "      <td>Apple - MacBook Pro 15\" (All-in-One Desktop PC...</td>\n",
       "    </tr>\n",
       "  </tbody>\n",
       "</table>\n",
       "</div>"
      ],
      "text/plain": [
       "     Price                                               Item\n",
       "0  5124.43  Apple MacBook Pro 16\" - Silber 2019 MVVL2D/A i...\n",
       "1  3057.92  Apple MacBook Pro 16\" - Silber 2019 MVVM2D/A i...\n",
       "2  3057.92  Apple MacBook Pro 16\" - Space Grau 2019 MVVK2D...\n",
       "3  2859.00  Nuevo Apple MacBook Pro (de 16 pulgadas, 16 GB...\n",
       "4  2699.00  Apple - MacBook Pro 15\" (All-in-One Desktop PC..."
      ]
     },
     "execution_count": 3,
     "metadata": {},
     "output_type": "execute_result"
    }
   ],
   "source": [
    "df"
   ]
  },
  {
   "cell_type": "code",
   "execution_count": 4,
   "metadata": {},
   "outputs": [
    {
     "name": "stdout",
     "output_type": "stream",
     "text": [
      "0\n"
     ]
    }
   ],
   "source": [
    "X = int(input()) #X will be a variable into a param"
   ]
  },
  {
   "cell_type": "code",
   "execution_count": 5,
   "metadata": {},
   "outputs": [
    {
     "data": {
      "text/plain": [
       "'Apple MacBook Pro 16\" - Silber 2019 MVVL2D/A i7 2,6GHz, 16GB RAM, 512GB SSD, Radeon Pro 5300M, macOS - Touch Bar'"
      ]
     },
     "execution_count": 5,
     "metadata": {},
     "output_type": "execute_result"
    }
   ],
   "source": [
    "item = df.loc[X,'Item']\n",
    "item "
   ]
  },
  {
   "cell_type": "code",
   "execution_count": 6,
   "metadata": {},
   "outputs": [
    {
     "data": {
      "text/plain": [
       "5124.43"
      ]
     },
     "execution_count": 6,
     "metadata": {},
     "output_type": "execute_result"
    }
   ],
   "source": [
    "price = df.loc[X,'Price']\n",
    "price"
   ]
  },
  {
   "cell_type": "code",
   "execution_count": 7,
   "metadata": {},
   "outputs": [],
   "source": [
    "chrome_options = webdriver.ChromeOptions()\n",
    "chrome_options.add_argument(\"--incognito\")\n",
    "\n",
    "driver = webdriver.Chrome('../chromedriver',options=chrome_options)\n",
    "driver.get(\"https://www.amazon.es/\")\n",
    "\n",
    "sleep(3)\n",
    "driver.find_element_by_xpath(\"//input[@id=\\\"twotabsearchtextbox\\\"]\")\\\n",
    "    .send_keys(item)\n",
    "sleep(2)\n",
    "driver.find_element_by_xpath(\"//input[contains(@type,'submit')]\")\\\n",
    "    .click()\n",
    "sleep(2)\n",
    "driver.find_element_by_class_name('a-link-normal.a-text-normal')\\\n",
    "    .click()\n",
    "sleep(2)\n",
    "\n",
    "driver.find_element_by_class_name('a-expander-prompt')\\\n",
    "    .click()\n",
    "sleep(2)\n",
    "\n",
    "item_description = driver.find_element_by_id('productTitle') # full description of the item\n",
    "\n",
    "price = driver.find_element_by_id('priceblock_ourprice') # Actual price\n",
    "\n",
    "#financing = driver.find_element_by_class_name('a-text-bold') # if the item has the financing option\n",
    "\n",
    "# financiado = driver.find_element_by_link_text(\"61,05 € x 24 meses\")\n",
    "\n",
    "#haracteristics = driver.find_elements_by_class_name('a-list-item') # characteristics\n",
    "\n",
    "#Reviews =  driver.find_element_by_id('acrCustomerReviewText') # Reviews\n",
    "\n",
    "#Deliver_day = driver.find_element_by_class_name('a-text-bold') # Deliver day\n",
    "\n",
    "label = driver.find_elements_by_class_name('label')\n",
    "\n",
    "label2 = driver.find_elements_by_class_name('value')\n",
    "\n",
    "#Stock = driver.find_element_by_class_name('a-size-medium.a-color-success') # Stock available\n"
   ]
  },
  {
   "cell_type": "code",
   "execution_count": 8,
   "metadata": {},
   "outputs": [
    {
     "data": {
      "text/plain": [
       "'Apple MacBook Pro 16\" - Silber 2019 MVVL2D/A i7 2,6GHz, 16GB RAM, 512GB SSD, Radeon Pro 5300M, macOS - Touch Bar'"
      ]
     },
     "execution_count": 8,
     "metadata": {},
     "output_type": "execute_result"
    }
   ],
   "source": [
    "item"
   ]
  },
  {
   "cell_type": "code",
   "execution_count": 28,
   "metadata": {},
   "outputs": [
    {
     "ename": "AttributeError",
     "evalue": "'float' object has no attribute 'text'",
     "output_type": "error",
     "traceback": [
      "\u001b[0;31m---------------------------------------------------------------------------\u001b[0m",
      "\u001b[0;31mAttributeError\u001b[0m                            Traceback (most recent call last)",
      "\u001b[0;32m<ipython-input-28-14a761be48bd>\u001b[0m in \u001b[0;36m<module>\u001b[0;34m\u001b[0m\n\u001b[0;32m----> 1\u001b[0;31m \u001b[0mprice\u001b[0m \u001b[0;34m=\u001b[0m \u001b[0mprice\u001b[0m\u001b[0;34m.\u001b[0m\u001b[0mtext\u001b[0m\u001b[0;34m\u001b[0m\u001b[0;34m\u001b[0m\u001b[0m\n\u001b[0m\u001b[1;32m      2\u001b[0m \u001b[0mprice\u001b[0m\u001b[0;34m\u001b[0m\u001b[0;34m\u001b[0m\u001b[0m\n\u001b[1;32m      3\u001b[0m \u001b[0mprice\u001b[0m \u001b[0;34m=\u001b[0m \u001b[0mprice\u001b[0m\u001b[0;34m.\u001b[0m\u001b[0mstrip\u001b[0m\u001b[0;34m(\u001b[0m\u001b[0;34m' €'\u001b[0m\u001b[0;34m)\u001b[0m\u001b[0;34m\u001b[0m\u001b[0;34m\u001b[0m\u001b[0m\n\u001b[1;32m      4\u001b[0m \u001b[0mprice\u001b[0m \u001b[0;34m=\u001b[0m \u001b[0mprice\u001b[0m\u001b[0;34m.\u001b[0m\u001b[0mreplace\u001b[0m\u001b[0;34m(\u001b[0m\u001b[0;34m'.'\u001b[0m\u001b[0;34m,\u001b[0m\u001b[0;34m''\u001b[0m\u001b[0;34m)\u001b[0m\u001b[0;34m\u001b[0m\u001b[0;34m\u001b[0m\u001b[0m\n\u001b[1;32m      5\u001b[0m \u001b[0mprice\u001b[0m \u001b[0;34m=\u001b[0m \u001b[0mprice\u001b[0m\u001b[0;34m.\u001b[0m\u001b[0mreplace\u001b[0m\u001b[0;34m(\u001b[0m\u001b[0;34m','\u001b[0m\u001b[0;34m,\u001b[0m\u001b[0;34m'.'\u001b[0m\u001b[0;34m)\u001b[0m\u001b[0;34m\u001b[0m\u001b[0;34m\u001b[0m\u001b[0m\n",
      "\u001b[0;31mAttributeError\u001b[0m: 'float' object has no attribute 'text'"
     ]
    }
   ],
   "source": [
    "price = price.text\n",
    "price\n",
    "price = price.strip(' €')\n",
    "price = price.replace('.','')\n",
    "price = price.replace(',','.')\n",
    "price = float(price)\n",
    "price"
   ]
  },
  {
   "cell_type": "code",
   "execution_count": 19,
   "metadata": {},
   "outputs": [
    {
     "data": {
      "text/plain": [
       "31"
      ]
     },
     "execution_count": 19,
     "metadata": {},
     "output_type": "execute_result"
    }
   ],
   "source": [
    "information = []\n",
    "for l in label2:\n",
    "    information.append(l.text)\n",
    "len(information)"
   ]
  },
  {
   "cell_type": "code",
   "execution_count": 20,
   "metadata": {},
   "outputs": [
    {
     "data": {
      "text/plain": [
       "31"
      ]
     },
     "execution_count": 20,
     "metadata": {},
     "output_type": "execute_result"
    }
   ],
   "source": [
    "name = []\n",
    "for l in label:\n",
    "    name.append(l.text)\n",
    "len(name)"
   ]
  },
  {
   "cell_type": "code",
   "execution_count": 21,
   "metadata": {},
   "outputs": [],
   "source": [
    "product = pd.DataFrame({\n",
    "    'Characteristics': name,\n",
    "    'Information':information\n",
    "})"
   ]
  },
  {
   "cell_type": "code",
   "execution_count": 22,
   "metadata": {},
   "outputs": [],
   "source": [
    "product = product.set_index(['Characteristics'])"
   ]
  },
  {
   "cell_type": "code",
   "execution_count": 31,
   "metadata": {},
   "outputs": [],
   "source": [
    "product.to_csv('Email_2.csv')"
   ]
  },
  {
   "cell_type": "code",
   "execution_count": 23,
   "metadata": {},
   "outputs": [
    {
     "data": {
      "text/plain": [
       "True"
      ]
     },
     "execution_count": 23,
     "metadata": {},
     "output_type": "execute_result"
    }
   ],
   "source": [
    "import os\n",
    "import smtplib\n",
    "import dotenv\n",
    "from dotenv import load_dotenv\n",
    "load_dotenv()"
   ]
  },
  {
   "cell_type": "code",
   "execution_count": 26,
   "metadata": {},
   "outputs": [],
   "source": [
    "def send_mail():\n",
    "\n",
    "    \n",
    "    sender_email = os.getenv('emailP')\n",
    "    receiver_email = os.getenv('email')\n",
    "    password = os.getenv('PasswordP')\n",
    "\n",
    "\n",
    "    server = smtplib.SMTP('smtp.gmail.com',587)\n",
    "    server.ehlo()\n",
    "    server.starttls()\n",
    "    server.ehlo()\n",
    "    \n",
    "    server.login(sender_email,password)\n",
    "    \n",
    "    subject = 'Pythonium, your faithful robot'\n",
    "    \n",
    "    body = f'''Buenos días!\\n\\nVoy a recordarte el nombre y especificaciones generales del producto escogido: \n",
    "    \\n{item}\\nPrecio actual: {price}.\\n\n",
    "    Te adjunto una tabla con los datos técnicos del producto para que le eches un ojo:\\n\\n\\n{product}\\n\\n \n",
    "    Cuando baje al precio deseado te lo recordaré.\\n\\n Ten un buen día!,\\n Pythonium,'''\n",
    "\n",
    "    \n",
    "    msg = f'Subject:{subject}\\n\\n{body}'.encode()\n",
    "    \n",
    "    \n",
    "    server.sendmail(\n",
    "        sender_email,\n",
    "        receiver_email,\n",
    "        msg\n",
    "    )\n",
    "    \n",
    "    print('Hey email has been sent!')\n",
    "    \n",
    "    server.quit()"
   ]
  },
  {
   "cell_type": "code",
   "execution_count": 27,
   "metadata": {},
   "outputs": [
    {
     "name": "stdout",
     "output_type": "stream",
     "text": [
      "Hey email has been sent!\n"
     ]
    }
   ],
   "source": [
    "send_mail()"
   ]
  }
 ],
 "metadata": {
  "kernelspec": {
   "display_name": "Python 3",
   "language": "python",
   "name": "python3"
  },
  "language_info": {
   "codemirror_mode": {
    "name": "ipython",
    "version": 3
   },
   "file_extension": ".py",
   "mimetype": "text/x-python",
   "name": "python",
   "nbconvert_exporter": "python",
   "pygments_lexer": "ipython3",
   "version": "3.8.2"
  }
 },
 "nbformat": 4,
 "nbformat_minor": 4
}
