{
 "cells": [
  {
   "cell_type": "code",
   "execution_count": 1,
   "metadata": {},
   "outputs": [],
   "source": [
    "from time import sleep\n",
    "from selenium import webdriver\n",
    "from selenium.webdriver.common.by import By\n",
    "from selenium.webdriver.support.ui import WebDriverWait\n",
    "from selenium.webdriver.support import expected_conditions as EC\n",
    "from selenium import webdriver\n",
    "from time import sleep\n",
    "import requests\n",
    "import pandas as pd\n",
    "from bs4 import BeautifulSoup"
   ]
  },
  {
   "cell_type": "code",
   "execution_count": 2,
   "metadata": {},
   "outputs": [],
   "source": [
    "df = pd.read_csv('Email_1.csv')"
   ]
  },
  {
   "cell_type": "code",
   "execution_count": 3,
   "metadata": {},
   "outputs": [
    {
     "data": {
      "text/html": [
       "<div>\n",
       "<style scoped>\n",
       "    .dataframe tbody tr th:only-of-type {\n",
       "        vertical-align: middle;\n",
       "    }\n",
       "\n",
       "    .dataframe tbody tr th {\n",
       "        vertical-align: top;\n",
       "    }\n",
       "\n",
       "    .dataframe thead th {\n",
       "        text-align: right;\n",
       "    }\n",
       "</style>\n",
       "<table border=\"1\" class=\"dataframe\">\n",
       "  <thead>\n",
       "    <tr style=\"text-align: right;\">\n",
       "      <th></th>\n",
       "      <th>Price</th>\n",
       "      <th>Item</th>\n",
       "    </tr>\n",
       "  </thead>\n",
       "  <tbody>\n",
       "    <tr>\n",
       "      <th>0</th>\n",
       "      <td>5124.43</td>\n",
       "      <td>Apple MacBook Pro 16\" - Silber 2019 MVVL2D/A i...</td>\n",
       "    </tr>\n",
       "    <tr>\n",
       "      <th>1</th>\n",
       "      <td>3057.92</td>\n",
       "      <td>Apple MacBook Pro 16\" - Silber 2019 MVVM2D/A i...</td>\n",
       "    </tr>\n",
       "    <tr>\n",
       "      <th>2</th>\n",
       "      <td>3057.92</td>\n",
       "      <td>Apple MacBook Pro 16\" - Space Grau 2019 MVVK2D...</td>\n",
       "    </tr>\n",
       "    <tr>\n",
       "      <th>3</th>\n",
       "      <td>2859.00</td>\n",
       "      <td>Nuevo Apple MacBook Pro (de 16 pulgadas, 16 GB...</td>\n",
       "    </tr>\n",
       "    <tr>\n",
       "      <th>4</th>\n",
       "      <td>2699.00</td>\n",
       "      <td>Apple - MacBook Pro 15\" (All-in-One Desktop PC...</td>\n",
       "    </tr>\n",
       "  </tbody>\n",
       "</table>\n",
       "</div>"
      ],
      "text/plain": [
       "     Price                                               Item\n",
       "0  5124.43  Apple MacBook Pro 16\" - Silber 2019 MVVL2D/A i...\n",
       "1  3057.92  Apple MacBook Pro 16\" - Silber 2019 MVVM2D/A i...\n",
       "2  3057.92  Apple MacBook Pro 16\" - Space Grau 2019 MVVK2D...\n",
       "3  2859.00  Nuevo Apple MacBook Pro (de 16 pulgadas, 16 GB...\n",
       "4  2699.00  Apple - MacBook Pro 15\" (All-in-One Desktop PC..."
      ]
     },
     "execution_count": 3,
     "metadata": {},
     "output_type": "execute_result"
    }
   ],
   "source": [
    "df"
   ]
  },
  {
   "cell_type": "code",
   "execution_count": 4,
   "metadata": {},
   "outputs": [
    {
     "name": "stdout",
     "output_type": "stream",
     "text": [
      "0\n"
     ]
    }
   ],
   "source": [
    "X = int(input()) #X will be a variable into a param"
   ]
  },
  {
   "cell_type": "code",
   "execution_count": 5,
   "metadata": {},
   "outputs": [
    {
     "data": {
      "text/plain": [
       "'Apple MacBook Pro 16\" - Silber 2019 MVVL2D/A i7 2,6GHz, 16GB RAM, 512GB SSD, Radeon Pro 5300M, macOS - Touch Bar'"
      ]
     },
     "execution_count": 5,
     "metadata": {},
     "output_type": "execute_result"
    }
   ],
   "source": [
    "item = df.loc[X,'Item']\n",
    "item "
   ]
  },
  {
   "cell_type": "code",
   "execution_count": 6,
   "metadata": {},
   "outputs": [
    {
     "data": {
      "text/plain": [
       "5124.43"
      ]
     },
     "execution_count": 6,
     "metadata": {},
     "output_type": "execute_result"
    }
   ],
   "source": [
    "price = df.loc[X,'Price']\n",
    "price"
   ]
  },
  {
   "cell_type": "code",
   "execution_count": 27,
   "metadata": {},
   "outputs": [],
   "source": [
    "\n",
    "chrome_options = webdriver.ChromeOptions()\n",
    "chrome_options.add_argument(\"--incognito\")\n",
    "\n",
    "driver = webdriver.Chrome('../chromedriver',options=chrome_options)\n",
    "driver.get(\"https://www.amazon.es/\")\n",
    "\n",
    "sleep(3)\n",
    "driver.find_element_by_xpath(\"//input[@id=\\\"twotabsearchtextbox\\\"]\")\\\n",
    "    .send_keys(item)\n",
    "sleep(2)\n",
    "driver.find_element_by_xpath(\"//input[contains(@type,'submit')]\")\\\n",
    "    .click()\n",
    "sleep(2)\n",
    "\n",
    "driver.find_element_by_class_name(\"a-dropdown-prompt\")\\\n",
    "    .click()\n",
    "sleep(2)\n",
    "driver.find_element_by_id(\"s-result-sort-select_2\")\\\n",
    "    .click()\n",
    "sleep(2)\n",
    "driver.find_element_by_class_name('a-link-normal.a-text-normal')\\\n",
    "    .click()\n",
    "sleep(2)\n",
    "\n",
    "driver.find_element_by_class_name('a-expander-prompt')\\\n",
    "    .click()\n",
    "sleep(2)\n",
    "\n",
    "\n",
    "\n",
    "review = driver.find_elements_by_class_name('cr-original-review-content')# reviews to do the nltk\n",
    "\n",
    "\n",
    "item_description = driver.find_element_by_id('productTitle') # full description of the item\n",
    "\n",
    "price = driver.find_element_by_id('priceblock_ourprice') # Actual price\n",
    "\n",
    "label = driver.find_elements_by_class_name('label')\n",
    "\n",
    "label2 = driver.find_elements_by_class_name('value')\n",
    "    \n",
    "url = driver.current_url\n"
   ]
  },
  {
   "cell_type": "code",
   "execution_count": null,
   "metadata": {},
   "outputs": [],
   "source": []
  },
  {
   "cell_type": "code",
   "execution_count": 36,
   "metadata": {},
   "outputs": [],
   "source": [
    "reviews = [''.join(r.text.split('\\n')) for r in review]\n"
   ]
  },
  {
   "cell_type": "code",
   "execution_count": 41,
   "metadata": {},
   "outputs": [],
   "source": [
    "reviews = ''.join(reviews)"
   ]
  },
  {
   "cell_type": "code",
   "execution_count": 42,
   "metadata": {},
   "outputs": [
    {
     "data": {
      "text/plain": [
       "\"Perfekter Laptop und Arbeitsmittel für einen stolzen Preis nIch habe mir das Macbook pro 2019 gekauft um mit Ableton einen schnelleren workflow zu haben, davor hatte ich das Macbook pro 2012 also ihr könnt euch vorstellen was das für ein technischer unterschied ist-die Hardware ist sehr wertig und hat sehr viel Stil das Design ist sehr glatt und gut verarbeitet und im gesamten stimmig, die 4 USB slots kann man mit einer USB leisten adapter vervielfältigen was ich mir noch dazu gekauft habe um mein Push 2 benutzen zu können-der Display glänzt in Aktion in allen vorstellbaren Farben-von den Lautsprechern bin ich total überzeugt die sind fast schon so gut wie meine Anlage, überhaupt nicht blechen höhen und tiefen sind klar aber nicht statisch-mit den 16 GB RAM komm ich sehr schnell an meine Ziele und arbeite effizienter es macht extrem spaß ohne ruckeln und Wartezeiten an dem gerät zu arbeitenFazit: im Grunde genommen wirklich ein gerät das den namen high end mit Stolz tragen kann und zudem jeden Künstler oder selbstständig beflügelt in seiner Kreativität und zudem einen schnellen workflow ermöglicht der einen seine jahresziele zeitig erreichen lässtAllerdings gibt es auch 2 Kritik Punkte1. Meine touchbar hängt sich immer auf dann muss ich das Gerät einmal zu und auf klappen dann funktioniert sie wieder aber für 2500€ darf so etwas nicht passieren2. Das Preis Leistungs Verhältnis würde ich mal als befriedigend bezeichnen ganz klar geht da 1000€ für die Marke drauf aber wer bereit ist die auszugeben für einen wunderschönen Laptop hat viel Spaß mit den macbook proEdles Notebook, unnötige Touchbar, zu teuer und für mich kein Umstieg wertIch schreibe die Rezension auf dem neuen Macbook Pro 16'', das Basis Modell in Silber. Dieses sollte mein altes Macbook ersetzen (Mitte 2014). Das alte Macbook hatte 2,5 GHz Quadcore i7 mit 16GB 1600 Mhz DDR3 und 512GB SSD. Obwohl es noch einwandfrei funktionierte und ich erst vor einem halben Jahr die Batterie austauschen lies, wollte ich mir das 16'' Macbook Pro kaufen, weil ich die Funktionen und das Hardwareupgrade super fand. Aber leider kam die Ernüchterung: Die Touchbar findet bei mir im Alltag keine Anwendung genauso wenig wie der Fingerprint Sensor. Die 6-Kerne anstelle der 4-Kerne machen für mich als Webentwickler keinen großen Unterschied.Rentiert sich das oberflächliche Upgrade und die Investition von 2344€ + AppleCare (+450€) + Dongle (50€) von einem Macbook Pro Mitte 2014 zu einem Macbook Pro 16''? Ich finde nicht, dazu ist mir der Sprung zu klein.Ein Beispiel: Das Kompilieren von Programmcode dauerte auf meinem alten Macbook 1:48min, auf dem neuen 1:37. zu den gleichen Bedingungen. Sehr enttäuschend.Pro:+ Gewohnt hochwertiges, edles, robustes Design+ der Weggang von der Butterfly Tastatur zu der Magic Keyboard Tastatur+ Migration vom alten Macbook war sehr leichtContra:- Für das, was man bekommt immer noch zu teuer- Touchbar größenteils unnötig- Geräusch- und Hitzeentwicklung fast gleich wie bei älteren Modellen- Hitzeentwicklung- Kein MagSafe- Notwendiges Zubehör teuerFazit: Am besten man überlegt sich beim Kauf genau, was einem wichtig ist und wann die Investition dieser stolzen Summe ungerechtfertigt ist. Wäre mein altes Macbook kaputt, wäre ich an diesem hier geblieben, aber so nicht. Mein Macbook geht auf jeden Fall zurück.Schon sehr edelEin Geschenk für meine Tochter. Die ist schwer begeistert. Ich kann mich nicht erinnern Ihr mit einem anderem Geschenk, jemals so eine Freude gemacht zu haben. Ich bin jetzt kein Apple Fan, aber der Laptop ist sehr gut verarbeitet. Bildschirm eine Wucht. Lautsprecher prima. Akku hält lange. Und wirklich unschlagbar edel.Ich hoffe jetzt das Ding hält lange. Teuer ist er ja, aber super edel. Meine Tochter strahlt über alle Backen.Diese Freude zu sehen, war mir den Preis wert. Amazon ist klasse. Samstag bestellt, Montag da. Danke.scharfkantigDas Produkt ist im unteren Bereich sehr scharfkantig und meine Frau hat sich beim Anheben den Daumen unter dem Nagel erheblich eingeschnitten.Für so ein teures Produkt nicht akzeptabel und ich werde auch Apple informieren.Kaufempfehlung !!!Ich habe das MacBook jetzt seit Dezember. Ich bin nach wie vor mehr als zufrieden!!\""
      ]
     },
     "execution_count": 42,
     "metadata": {},
     "output_type": "execute_result"
    }
   ],
   "source": [
    "reviews"
   ]
  },
  {
   "cell_type": "markdown",
   "metadata": {},
   "source": [
    "## Item name"
   ]
  },
  {
   "cell_type": "code",
   "execution_count": 9,
   "metadata": {},
   "outputs": [
    {
     "data": {
      "text/plain": [
       "'Apple MacBook Pro 16\" - Silber 2019 MVVL2D/A i7 2,6GHz, 16GB RAM, 512GB SSD, Radeon Pro 5300M, macOS - Touch Bar'"
      ]
     },
     "execution_count": 9,
     "metadata": {},
     "output_type": "execute_result"
    }
   ],
   "source": [
    "item_description.text\n"
   ]
  },
  {
   "cell_type": "markdown",
   "metadata": {},
   "source": [
    "## Cleaning price to float type"
   ]
  },
  {
   "cell_type": "code",
   "execution_count": 10,
   "metadata": {},
   "outputs": [
    {
     "data": {
      "text/plain": [
       "5124.43"
      ]
     },
     "execution_count": 10,
     "metadata": {},
     "output_type": "execute_result"
    }
   ],
   "source": [
    "price = price.text\n",
    "price\n",
    "price = price.strip(' €')\n",
    "price = price.replace('.','')\n",
    "price = price.replace(',','.')\n",
    "max_price = float(price)\n",
    "max_price"
   ]
  },
  {
   "cell_type": "markdown",
   "metadata": {},
   "source": [
    "## Create dataframe from Characteristics"
   ]
  },
  {
   "cell_type": "code",
   "execution_count": 11,
   "metadata": {},
   "outputs": [],
   "source": [
    "'''\n",
    "information = []\n",
    "for l in label2:\n",
    "    information.append(l.text)\n",
    "len(information)\n",
    "'''\n",
    "information = [label.text for label in label2]\n"
   ]
  },
  {
   "cell_type": "code",
   "execution_count": 12,
   "metadata": {},
   "outputs": [],
   "source": [
    "'''\n",
    "name = []\n",
    "for l in label:\n",
    "    name.append(l.text)\n",
    "len(name)\n",
    "'''\n",
    "name = [l.text for l in label]\n"
   ]
  },
  {
   "cell_type": "code",
   "execution_count": 13,
   "metadata": {},
   "outputs": [],
   "source": [
    "df = {\n",
    "    'Characteristics': name,\n",
    "    'Information':information\n",
    "}"
   ]
  },
  {
   "cell_type": "markdown",
   "metadata": {},
   "source": [
    "## Finding the reviews to do nltk sentiment analisis of all reviews found"
   ]
  },
  {
   "cell_type": "code",
   "execution_count": 14,
   "metadata": {},
   "outputs": [],
   "source": [
    "text = []\n",
    "a=[]\n",
    "for r in review:\n",
    "    text.append(r.text.split('\\n'))\n",
    "for e in text:\n",
    "    for i in e:\n",
    "        if type(i)==str:\n",
    "            a.append(i)\n",
    "text_german = ''.join(a)\n"
   ]
  },
  {
   "cell_type": "markdown",
   "metadata": {},
   "source": [
    "## Google translate import to translate reviews to english"
   ]
  },
  {
   "cell_type": "code",
   "execution_count": 15,
   "metadata": {},
   "outputs": [],
   "source": [
    "from googletrans import Translator\n",
    "trans = Translator()\n",
    "t = trans.translate(text_german)"
   ]
  },
  {
   "cell_type": "code",
   "execution_count": 16,
   "metadata": {},
   "outputs": [
    {
     "data": {
      "text/plain": [
       "\"Perfect Laptop and tools for a premium price nI have bought the Macbook pro in 2019 to have a faster workflow with Ableton, before that I had the Macbook pro in 2012 so you can imagine what kind of a technical difference is-the hardware is very valuable and very has a lot of style, the design is very smooth and well finished and consistent throughout, the 4 USB slots you can afford with a USB adapter reproduce what I myself have not bought this to use for my push 2 to-the display shines in action in every imaginable color from the speakers, I am totally convinced that are almost as good as my conditioning, do not fork out ups and downs but are clearly not static with 16 GB of RAM I come very quickly to my goals and work more efficiently, it makes extremely fun without bucking and waiting times at the device to work conclusion: basically really a device containing the names high end proudly wear can and also any artist or self inspires in his creativity and also a fast workflow allows one his years time goals can achieve but there are also two points1 criticism. My touch bar is always the device depends on then I must once and then rotate it working again but for 2500 € must not something passieren2. The value for money I would sometimes satisfactory designate clearly goes since 1000 € for the brand on it but those who are willing to spend on a beautiful laptop has a lot of fun with the macbook proEdles Notebook, unnecessary touch bar, too expensive and for me no transition Wertich write the review on the new Macbook Pro 16 '', the base model in silver. This should replace my old Macbook (mid-2014). The old MacBook had 2.5 GHz quad-core i7 with 16GB 1600 MHz DDR3 and 512GB SSD. Although it still worked perfectly and I let the battery replaced only half a year ago, I wanted to buy the 16 '' Macbook Pro because I found the functions and hardware upgrade super. But unfortunately came the disappointment: The touch bar is with me in everyday life do not apply any more than the fingerprint sensor. The 6 cores instead of 4 cores make for me as a web developer no great Unterschied.Rentiert the superficial upgrade and investment of € 2,344 + AppleCare (+ 450 €) + dongle (50 €) from a Macbook Pro in mid-2014 to a Macbook Pro 16 ''? I do not find this to me is the leap to klein.Ein example: Compiling code took on my old Macbook 1: 48min, on the new 1:37. on the same terms. Very enttäuschend.Pro: + Accustomed high-quality, sophisticated, robust design + the departure of the butterfly keyboard to the Magic Keyboard Keyboard + migration from the old Macbook was very easy contra: - For what one still gets to expensive-touch bar originating mainly unnötig- noise and heat generated almost the same as in older models- Hitzeentwicklung- No MagSafe Accessories required expensive conclusion: the best you consider when buying exactly what is important and when the investment this proud sum is unjustified. If my old Macbook broken, I would have stayed here in this, but not like this. My Macbook is definitely zurück.Schon very edelEin gift for my daughter. Which is heavily inspired. I can not remember your with another gift ever having made such a delight me. I'm not an Apple fan, but the laptop is very well made. Screen a stunner. Speaker fine. Battery lasts a long time. And really unbeatable edel.Ich now hope the thing is long-lasting. Expensive he is, but super classy. My daughter radiates joy to see all Backen.Diese me was worth the price. Amazon is great. Saturday ordered since Monday. Danke.scharfkantigDas product is very sharp in the lower part and my wife has significantly eingeschnitten.Für such an expensive product unacceptable when lifting the thumb under the nail and I will !!! and Apple informieren.Kaufempfehlung I have the MacBook now since December , I'm still more than satisfied !!\""
      ]
     },
     "execution_count": 16,
     "metadata": {},
     "output_type": "execute_result"
    }
   ],
   "source": [
    "text=t.text\n",
    "text"
   ]
  },
  {
   "cell_type": "code",
   "execution_count": 17,
   "metadata": {},
   "outputs": [
    {
     "name": "stderr",
     "output_type": "stream",
     "text": [
      "[nltk_data] Downloading package vader_lexicon to\n",
      "[nltk_data]     /Users/albertjoselobera/nltk_data...\n",
      "[nltk_data]   Package vader_lexicon is already up-to-date!\n"
     ]
    },
    {
     "data": {
      "text/plain": [
       "True"
      ]
     },
     "execution_count": 17,
     "metadata": {},
     "output_type": "execute_result"
    }
   ],
   "source": [
    "from nltk.stem import SnowballStemmer\n",
    "import nltk\n",
    "from nltk.sentiment.vader import SentimentIntensityAnalyzer\n",
    "nltk.download(\"vader_lexicon\")\n",
    "\n",
    "\n",
    "\n"
   ]
  },
  {
   "cell_type": "code",
   "execution_count": 18,
   "metadata": {},
   "outputs": [],
   "source": [
    "sia = SentimentIntensityAnalyzer()\n"
   ]
  },
  {
   "cell_type": "code",
   "execution_count": 19,
   "metadata": {},
   "outputs": [],
   "source": [
    "sentiment = sia.polarity_scores(text)\n",
    "sentiment\n",
    "sentiment_changed = {'Negativo':sentiment['neg'],'Neutro':sentiment['neu'],'Positivo':sentiment['pos']}"
   ]
  },
  {
   "cell_type": "code",
   "execution_count": 20,
   "metadata": {},
   "outputs": [],
   "source": [
    "sentiment_changed = {'Positivo':round(sentiment_changed['Positivo']*100/1,2),'Neutro':round(sentiment_changed['Neutro']*100/1,2),'Negativo':round(sentiment_changed['Negativo']*100/1,2)}\n"
   ]
  },
  {
   "cell_type": "code",
   "execution_count": 21,
   "metadata": {},
   "outputs": [],
   "source": [
    "df = pd.DataFrame.from_dict(df, orient='index')\n",
    "df = df.transpose()"
   ]
  },
  {
   "cell_type": "code",
   "execution_count": 22,
   "metadata": {},
   "outputs": [],
   "source": [
    "product = df.set_index(['Characteristics'])"
   ]
  },
  {
   "cell_type": "code",
   "execution_count": 23,
   "metadata": {},
   "outputs": [],
   "source": [
    "product.to_csv('Email_2.csv')"
   ]
  },
  {
   "cell_type": "code",
   "execution_count": 24,
   "metadata": {},
   "outputs": [
    {
     "data": {
      "text/plain": [
       "True"
      ]
     },
     "execution_count": 24,
     "metadata": {},
     "output_type": "execute_result"
    }
   ],
   "source": [
    "import os\n",
    "import smtplib\n",
    "import dotenv\n",
    "from dotenv import load_dotenv\n",
    "load_dotenv()"
   ]
  },
  {
   "cell_type": "markdown",
   "metadata": {},
   "source": [
    "## Price maximum selected by the user"
   ]
  },
  {
   "cell_type": "code",
   "execution_count": null,
   "metadata": {},
   "outputs": [],
   "source": []
  },
  {
   "cell_type": "markdown",
   "metadata": {},
   "source": [
    "## Email with product detail"
   ]
  },
  {
   "cell_type": "code",
   "execution_count": null,
   "metadata": {},
   "outputs": [],
   "source": [
    "def send_mail():\n",
    "\n",
    "    \n",
    "    sender_email = os.getenv('emailP')\n",
    "    receiver_email = os.getenv('email')\n",
    "    password = os.getenv('PasswordP')\n",
    "\n",
    "\n",
    "    server = smtplib.SMTP('smtp.gmail.com',587)\n",
    "    server.ehlo()\n",
    "    server.starttls()\n",
    "    server.ehlo()\n",
    "    \n",
    "    server.login(sender_email,password)\n",
    "    \n",
    "    subject = 'Pythonium, detalles del artículo'\n",
    "    \n",
    "    body = f'''Buenos días!\\n\\nVoy a recordarte el nombre y especificaciones generales del producto escogido: \n",
    "    \\n{item}\\nPrecio actual: {max_price}.\\n\\n\n",
    "    Segun mi sistema de sentimiento, las valoraciones tienen un % de:\\n\n",
    "    {sentiment_changed}\\n\\n\\nEnlace al producto:\\n {url}\n",
    "    \n",
    "    Te adjunto una tabla con los datos técnicos del producto para que le eches un ojo:\\n\\n\\n{product}\\n\\n \n",
    "    Cuando baje al precio deseado te lo recordaré.\\n\\n Ten un buen día!,\\n Pythonium,'''\n",
    "\n",
    "    \n",
    "    msg = f'Subject:{subject}\\n\\n{body}'.encode()\n",
    "    \n",
    "    \n",
    "    server.sendmail(\n",
    "        sender_email,\n",
    "        receiver_email,\n",
    "        msg\n",
    "    )\n",
    "    \n",
    "    print('Hey email has been sent!')\n",
    "    \n",
    "    server.quit()"
   ]
  },
  {
   "cell_type": "code",
   "execution_count": null,
   "metadata": {},
   "outputs": [],
   "source": [
    "send_mail()"
   ]
  },
  {
   "cell_type": "markdown",
   "metadata": {},
   "source": [
    "## Last email"
   ]
  },
  {
   "cell_type": "markdown",
   "metadata": {},
   "source": [
    "if price goes down"
   ]
  },
  {
   "cell_type": "code",
   "execution_count": null,
   "metadata": {},
   "outputs": [],
   "source": [
    "def send_final_email():\n",
    "\n",
    "    \n",
    "    sender_email = os.getenv('emailP')\n",
    "    receiver_email = os.getenv('email')\n",
    "    password = os.getenv('PasswordP')\n",
    "\n",
    "\n",
    "    server = smtplib.SMTP('smtp.gmail.com',587)\n",
    "    server.ehlo()\n",
    "    server.starttls()\n",
    "    server.ehlo()\n",
    "    \n",
    "    server.login(sender_email,password)\n",
    "    \n",
    "    subject = 'Pythonium, ¡Tienes una oferta!'\n",
    "    \n",
    "    body = f'''Buenas noticias!\\n\\nNuestro producto\\n {item}\\n\\n Se encuentra al siguiente precio {max_price}! un chollazo!, \n",
    "si aun sigues interesado te dejo el enlace:\\n\\n {url}.\\n\\n\\n Ten un buen día!,\\n Pythonium,'''\n",
    "\n",
    "    \n",
    "    msg = f'Subject:{subject}\\n\\n{body}'.encode()\n",
    "    \n",
    "    \n",
    "    server.sendmail(\n",
    "        sender_email,\n",
    "        receiver_email,\n",
    "        msg\n",
    "    )\n",
    "    \n",
    "    print('Hey email has been sent!')\n",
    "    \n",
    "    server.quit()"
   ]
  },
  {
   "cell_type": "code",
   "execution_count": null,
   "metadata": {},
   "outputs": [],
   "source": [
    "mac = 5000\n",
    "tu_precio = 4500\n",
    "\n",
    "def last_email(min_price)\n",
    "    if (max_price <= min_price):\n",
    "        send_final_email()\n",
    "    \n",
    "    \n",
    "item\n",
    "max_price\n",
    "url  \n",
    "    \n",
    "    "
   ]
  },
  {
   "cell_type": "code",
   "execution_count": null,
   "metadata": {},
   "outputs": [],
   "source": []
  },
  {
   "cell_type": "code",
   "execution_count": null,
   "metadata": {},
   "outputs": [],
   "source": []
  }
 ],
 "metadata": {
  "kernelspec": {
   "display_name": "Python 3",
   "language": "python",
   "name": "python3"
  },
  "language_info": {
   "codemirror_mode": {
    "name": "ipython",
    "version": 3
   },
   "file_extension": ".py",
   "mimetype": "text/x-python",
   "name": "python",
   "nbconvert_exporter": "python",
   "pygments_lexer": "ipython3",
   "version": "3.8.2"
  }
 },
 "nbformat": 4,
 "nbformat_minor": 4
}
