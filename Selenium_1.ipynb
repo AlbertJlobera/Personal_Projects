{
 "cells": [
  {
   "cell_type": "code",
   "execution_count": 1,
   "metadata": {},
   "outputs": [],
   "source": [
    "from time import sleep\n",
    "from selenium import webdriver\n",
    "from selenium.webdriver.common.by import By\n",
    "from selenium.webdriver.support.ui import WebDriverWait\n",
    "from selenium.webdriver.support import expected_conditions as EC\n",
    "from selenium import webdriver\n",
    "from time import sleep\n",
    "import requests\n",
    "import pandas as pd\n",
    "from bs4 import BeautifulSoup"
   ]
  },
  {
   "cell_type": "markdown",
   "metadata": {},
   "source": [
    "Mínimo: \n",
    "\n",
    "Step 1 - SELENIUM - Entrar en Amazon, loggin, buscar el producto, seleccionar los tres primeros (abriendo, extrayendo info y volviendo atrás) \n",
    "\n",
    "    (LOGGIN)\n",
    "    1.1. Abir chrome desde incógnito\n",
    "    1.2. Abrir item, coger info y volver atrás (repetir)\n",
    "    \n",
    "\n",
    "Step 2 - WEB SCRAPING - Obtener información: nombre del producto, características, imagen, valoraciones y precio\n",
    "        VER VÍDEO: https://www.youtube.com/watch?v=Bg9r_yLk7VY \n",
    "        \n",
    "        2.1. Buscar cómo extraer información (Extra: ver cuántas unidades quedan, las tres reviews más votadas, si es Amazon Prime o no) \n",
    "\n",
    "Step 3 - Enviar email con la info del step 2 \n",
    "\n",
    "Step 4 - Una vez con el item seleccionado, avisar vía email cuando el precio baje de 'X y+ añadir el día en que llegaría\n",
    "\n",
    "Step 5 - Si eliges sí, automáticamente se compra y te llega un email de confirmación\n",
    "\n",
    "BONUS\n",
    "\n",
    "1. Enviar los emails con un pdf con las características\n",
    "2. Después del email del precio más bajo, puedes decidir comprarlo y automáticamente lo hace\n",
    "3. Hacerlo vía pipeline (parámetros: item, precio máximo dispuesto a pagar, valoraciones)\n",
    "\n",
    "\n"
   ]
  },
  {
   "cell_type": "code",
   "execution_count": 2,
   "metadata": {},
   "outputs": [],
   "source": [
    "# incognit not working\n",
    "\n",
    "chrome_options = webdriver.ChromeOptions()\n",
    "chrome_options.add_argument(\"--incognito\")\n",
    "\n",
    "driver = webdriver.Chrome('../chromedriver',options=chrome_options)\n",
    "driver.get(\"https://www.amazon.es/\")\n",
    "\n",
    "\n",
    "\n",
    "\n",
    "#Login: problems not incogint working\n",
    "'''\n",
    "driver.find_element_by_class_name(\"nav-line-2\")\\\n",
    "    .click()\n",
    "driver.find_element_by_class_name(\"a-input-text.a-span12.auth-autofocus.auth-required-field\")\\\n",
    "    .send_keys('email')\n",
    "sleep(2)\n",
    "driver.find_element_by_class_name(\"a-button-input\")\\\n",
    "    .click()\n",
    "sleep(1)\n",
    "driver.find_element_by_id(\"ap_password\")\\\n",
    "    .send_keys('password')\n",
    "sleep(1)\n",
    "driver.find_element_by_id(\"signInSubmit\")\\\n",
    "    .click()\n",
    "sleep(3)\n",
    "\n",
    "driver.find_element_by_id(\"continue\")\\\n",
    "    .click()\n",
    "'''\n",
    "# -----------------------\n",
    "\n",
    "\n",
    "sleep(3)\n",
    "driver.find_element_by_xpath(\"//input[@id=\\\"twotabsearchtextbox\\\"]\")\\\n",
    "    .send_keys('macbook Air 13 ')\n",
    "sleep(2)\n",
    "driver.find_element_by_xpath(\"//input[contains(@type,'submit')]\")\\\n",
    "    .click()\n",
    "sleep(2)\n",
    "\n",
    "driver.find_element_by_class_name(\"a-dropdown-prompt\")\\\n",
    "    .click()\n",
    "sleep(2)\n",
    "\n",
    "driver.find_element_by_id(\"s-result-sort-select_2\")\\\n",
    "    .click()\n",
    "sleep(2)\n",
    "item = driver.find_elements_by_class_name(\"a-size-base-plus.a-color-base.a-text-normal\")\n",
    "\n",
    "price = driver.find_elements_by_class_name(\"a-price-whole\")\n",
    "\n",
    "review = driver.find_elements_by_class_name(\"a-size-base\")\n",
    "\n",
    "prime = driver.find_elements_by_class_name(\"a-row.a-size-small\")\n",
    "\n",
    "\n",
    "Deliver = driver.find_elements_by_class_name(\"a-text-bold\")\n",
    "\n",
    "image = driver.find_elements_by_class_name('s-image')\n",
    "\n",
    "\n",
    "\n",
    "\"\"\"\n",
    "driver.find_element_by_id(\"acrCustomerReviewText\")\\\n",
    "    .click()\n",
    "driver.find_element_by_class_name(\"cr-helpful-text\")\\\n",
    "    .click()\n",
    "\"\"\"\n",
    "\n",
    "\n",
    "url = driver.current_url\n"
   ]
  },
  {
   "cell_type": "markdown",
   "metadata": {},
   "source": [
    "## Items"
   ]
  },
  {
   "cell_type": "code",
   "execution_count": 3,
   "metadata": {},
   "outputs": [
    {
     "data": {
      "text/plain": [
       "52"
      ]
     },
     "execution_count": 3,
     "metadata": {},
     "output_type": "execute_result"
    }
   ],
   "source": [
    "Items = []\n",
    "for items in item: \n",
    "    Items.append(items.text)\n",
    "    \n",
    "len(Items)"
   ]
  },
  {
   "cell_type": "markdown",
   "metadata": {},
   "source": [
    "## Image"
   ]
  },
  {
   "cell_type": "code",
   "execution_count": null,
   "metadata": {},
   "outputs": [],
   "source": []
  },
  {
   "cell_type": "markdown",
   "metadata": {},
   "source": [
    "## Price"
   ]
  },
  {
   "cell_type": "code",
   "execution_count": 4,
   "metadata": {},
   "outputs": [],
   "source": [
    "numero=[]\n",
    "\n",
    "for i in price :\n",
    "    if (i.get_attribute(\"innerHTML\") != \"null\") :\n",
    "        numero.append(i.get_attribute(\"innerHTML\"))\n",
    "\n"
   ]
  },
  {
   "cell_type": "code",
   "execution_count": 5,
   "metadata": {},
   "outputs": [
    {
     "data": {
      "text/plain": [
       "[5124.43,\n",
       " 3057.92,\n",
       " 3057.92,\n",
       " 2859.0,\n",
       " 2699.0,\n",
       " 2699.0,\n",
       " 2662.55,\n",
       " 2484.8,\n",
       " 2425.77,\n",
       " 2129.0,\n",
       " 2108.92,\n",
       " 2087.92,\n",
       " 1999.0,\n",
       " 1799.0,\n",
       " 1699.0,\n",
       " 1657.92,\n",
       " 1657.92,\n",
       " 1499.99,\n",
       " 1499.0,\n",
       " 1463.1,\n",
       " 1449.0,\n",
       " 1449.0,\n",
       " 1359.76,\n",
       " 1349.0,\n",
       " 1215.0,\n",
       " 1857.92,\n",
       " 1170.0,\n",
       " 1099.97,\n",
       " 1050.0,\n",
       " 969.99,\n",
       " 905.12,\n",
       " 920.0,\n",
       " 849.99,\n",
       " 799.0,\n",
       " 750.0,\n",
       " 569.0,\n",
       " 19.97,\n",
       " 299.99,\n",
       " 29.95,\n",
       " 22.99]"
      ]
     },
     "execution_count": 5,
     "metadata": {},
     "output_type": "execute_result"
    }
   ],
   "source": [
    "Price =[]\n",
    "for prices in numero:\n",
    "    \n",
    "    Price.append(prices.replace('.',''))\n",
    "    \n",
    "Price\n",
    "Prices=[]\n",
    "\n",
    "for e in Price:\n",
    "    if type(e) == str:\n",
    "        Prices.append(e.replace(',','.'))\n",
    "\n",
    "Price = []\n",
    "for e in Prices:\n",
    "    if type(e) == str:\n",
    "        Price.append(float(e))\n",
    "        \n",
    "Price"
   ]
  },
  {
   "cell_type": "markdown",
   "metadata": {},
   "source": [
    "## Reviews"
   ]
  },
  {
   "cell_type": "code",
   "execution_count": 6,
   "metadata": {},
   "outputs": [],
   "source": [
    "df = {\n",
    "    'Item':Items,\n",
    "    'Price':Price\n",
    "}"
   ]
  },
  {
   "cell_type": "code",
   "execution_count": 7,
   "metadata": {},
   "outputs": [],
   "source": [
    "df = pd.DataFrame.from_dict(df, orient='index')\n",
    "df = df.transpose()\n"
   ]
  },
  {
   "cell_type": "code",
   "execution_count": 8,
   "metadata": {},
   "outputs": [
    {
     "data": {
      "text/html": [
       "<div>\n",
       "<style scoped>\n",
       "    .dataframe tbody tr th:only-of-type {\n",
       "        vertical-align: middle;\n",
       "    }\n",
       "\n",
       "    .dataframe tbody tr th {\n",
       "        vertical-align: top;\n",
       "    }\n",
       "\n",
       "    .dataframe thead th {\n",
       "        text-align: right;\n",
       "    }\n",
       "</style>\n",
       "<table border=\"1\" class=\"dataframe\">\n",
       "  <thead>\n",
       "    <tr style=\"text-align: right;\">\n",
       "      <th></th>\n",
       "      <th>Item</th>\n",
       "      <th>Price</th>\n",
       "    </tr>\n",
       "  </thead>\n",
       "  <tbody>\n",
       "    <tr>\n",
       "      <th>0</th>\n",
       "      <td>Apple MacBook Pro 16\" - Silber 2019 MVVL2D/A i...</td>\n",
       "      <td>5124.43</td>\n",
       "    </tr>\n",
       "    <tr>\n",
       "      <th>1</th>\n",
       "      <td>Apple MacBook Pro 16\" - Space Grau 2019 MVVK2D...</td>\n",
       "      <td>3057.92</td>\n",
       "    </tr>\n",
       "    <tr>\n",
       "      <th>2</th>\n",
       "      <td>Apple MacBook Pro 16\" - Silber 2019 MVVM2D/A i...</td>\n",
       "      <td>3057.92</td>\n",
       "    </tr>\n",
       "    <tr>\n",
       "      <th>3</th>\n",
       "      <td>Nuevo Apple MacBook Pro (de 16 pulgadas, 16 GB...</td>\n",
       "      <td>2859</td>\n",
       "    </tr>\n",
       "    <tr>\n",
       "      <th>4</th>\n",
       "      <td>Apple - MacBook Pro 15\" (All-in-One Desktop PC...</td>\n",
       "      <td>2699</td>\n",
       "    </tr>\n",
       "  </tbody>\n",
       "</table>\n",
       "</div>"
      ],
      "text/plain": [
       "                                                Item    Price\n",
       "0  Apple MacBook Pro 16\" - Silber 2019 MVVL2D/A i...  5124.43\n",
       "1  Apple MacBook Pro 16\" - Space Grau 2019 MVVK2D...  3057.92\n",
       "2  Apple MacBook Pro 16\" - Silber 2019 MVVM2D/A i...  3057.92\n",
       "3  Nuevo Apple MacBook Pro (de 16 pulgadas, 16 GB...     2859\n",
       "4  Apple - MacBook Pro 15\" (All-in-One Desktop PC...     2699"
      ]
     },
     "execution_count": 8,
     "metadata": {},
     "output_type": "execute_result"
    }
   ],
   "source": [
    "df.head()"
   ]
  },
  {
   "cell_type": "code",
   "execution_count": 9,
   "metadata": {},
   "outputs": [],
   "source": [
    "df.to_csv('df.items.csv',index=False)"
   ]
  }
 ],
 "metadata": {
  "kernelspec": {
   "display_name": "Python 3",
   "language": "python",
   "name": "python3"
  },
  "language_info": {
   "codemirror_mode": {
    "name": "ipython",
    "version": 3
   },
   "file_extension": ".py",
   "mimetype": "text/x-python",
   "name": "python",
   "nbconvert_exporter": "python",
   "pygments_lexer": "ipython3",
   "version": "3.8.2"
  }
 },
 "nbformat": 4,
 "nbformat_minor": 4
}
