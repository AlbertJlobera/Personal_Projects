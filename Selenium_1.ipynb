{
 "cells": [
  {
   "cell_type": "code",
   "execution_count": 1,
   "metadata": {},
   "outputs": [],
   "source": [
    "from time import sleep\n",
    "from selenium import webdriver\n",
    "from selenium.webdriver.common.by import By\n",
    "from selenium.webdriver.support.ui import WebDriverWait\n",
    "from selenium.webdriver.support import expected_conditions as EC\n",
    "from selenium import webdriver\n",
    "from time import sleep\n",
    "import requests\n",
    "import pandas as pd\n",
    "from bs4 import BeautifulSoup"
   ]
  },
  {
   "cell_type": "markdown",
   "metadata": {},
   "source": [
    "Mínimo: \n",
    "\n",
    "Step 1 - SELENIUM - Entrar en Amazon, loggin, buscar el producto, seleccionar los tres primeros (abriendo, extrayendo info y volviendo atrás) \n",
    "\n",
    "    (LOGGIN)\n",
    "    1.1. Abir chrome desde incógnito\n",
    "    1.2. Abrir item, coger info y volver atrás (repetir)\n",
    "    \n",
    "\n",
    "Step 2 - WEB SCRAPING - Obtener información: nombre del producto, características, imagen, valoraciones y precio\n",
    "        VER VÍDEO: https://www.youtube.com/watch?v=Bg9r_yLk7VY \n",
    "        \n",
    "        2.1. Buscar cómo extraer información (Extra: ver cuántas unidades quedan, las tres reviews más votadas, si es Amazon Prime o no) \n",
    "\n",
    "Step 3 - Enviar email con la info del step 2 \n",
    "\n",
    "Step 4 - Una vez con el item seleccionado, avisar vía email cuando el precio baje de 'X y+ añadir el día en que llegaría\n",
    "\n",
    "Step 5 - Si eliges sí, automáticamente se compra y te llega un email de confirmación\n",
    "\n",
    "BONUS\n",
    "\n",
    "1. Enviar los emails con un pdf con las características\n",
    "2. Después del email del precio más bajo, puedes decidir comprarlo y automáticamente lo hace\n",
    "3. Hacerlo vía pipeline (parámetros: item, precio máximo dispuesto a pagar, valoraciones)\n",
    "\n",
    "\n"
   ]
  },
  {
   "cell_type": "code",
   "execution_count": 2,
   "metadata": {},
   "outputs": [],
   "source": [
    "# incognit not working\n",
    "\n",
    "chrome_options = webdriver.ChromeOptions()\n",
    "chrome_options.add_argument(\"--incognito\")\n",
    "\n",
    "driver = webdriver.Chrome('../chromedriver',options=chrome_options)\n",
    "driver.get(\"https://www.amazon.es/\")\n",
    "\n",
    "\n",
    "\n",
    "\n",
    "#Login: problems not incogint working\n",
    "'''\n",
    "driver.find_element_by_class_name(\"nav-line-2\")\\\n",
    "    .click()\n",
    "driver.find_element_by_class_name(\"a-input-text.a-span12.auth-autofocus.auth-required-field\")\\\n",
    "    .send_keys('email')\n",
    "sleep(2)\n",
    "driver.find_element_by_class_name(\"a-button-input\")\\\n",
    "    .click()\n",
    "sleep(1)\n",
    "driver.find_element_by_id(\"ap_password\")\\\n",
    "    .send_keys('password')\n",
    "sleep(1)\n",
    "driver.find_element_by_id(\"signInSubmit\")\\\n",
    "    .click()\n",
    "sleep(3)\n",
    "\n",
    "driver.find_element_by_id(\"continue\")\\\n",
    "    .click()\n",
    "'''\n",
    "# -----------------------\n",
    "\n",
    "\n",
    "sleep(3)\n",
    "driver.find_element_by_xpath(\"//input[@id=\\\"twotabsearchtextbox\\\"]\")\\\n",
    "    .send_keys('smart TV samsung')\n",
    "sleep(2)\n",
    "driver.find_element_by_xpath(\"//input[contains(@type,'submit')]\")\\\n",
    "    .click()\n",
    "sleep(2)\n",
    "\n",
    "item = driver.find_elements_by_class_name(\"a-size-base-plus.a-color-base.a-text-normal\")\n",
    "\n",
    "price = driver.find_elements_by_class_name(\"a-price-whole\")\n",
    "\n",
    "review = driver.find_elements_by_class_name(\"a-size-base\")\n",
    "\n",
    "prime = driver.find_elements_by_class_name(\"a-row.a-size-small\")\n",
    "\n",
    "\n",
    "Deliver = driver.find_elements_by_class_name(\"a-text-bold\")\n",
    "\n",
    "image = driver.find_elements_by_class_name('s-image')\n",
    "\n",
    "\n",
    "\n",
    "\"\"\"\n",
    "driver.find_element_by_id(\"acrCustomerReviewText\")\\\n",
    "    .click()\n",
    "driver.find_element_by_class_name(\"cr-helpful-text\")\\\n",
    "    .click()\n",
    "\"\"\"\n",
    "\n",
    "\n",
    "url = driver.current_url\n"
   ]
  },
  {
   "cell_type": "markdown",
   "metadata": {},
   "source": [
    "## Items"
   ]
  },
  {
   "cell_type": "code",
   "execution_count": 16,
   "metadata": {},
   "outputs": [
    {
     "data": {
      "text/plain": [
       "56"
      ]
     },
     "execution_count": 16,
     "metadata": {},
     "output_type": "execute_result"
    }
   ],
   "source": [
    "Items = []\n",
    "for items in item: \n",
    "    Items.append(items.text)\n",
    "    \n",
    "len(Items)"
   ]
  },
  {
   "cell_type": "markdown",
   "metadata": {},
   "source": [
    "## Image"
   ]
  },
  {
   "cell_type": "code",
   "execution_count": 6,
   "metadata": {},
   "outputs": [
    {
     "data": {
      "text/plain": [
       "56"
      ]
     },
     "execution_count": 6,
     "metadata": {},
     "output_type": "execute_result"
    }
   ],
   "source": [
    "Images = []\n",
    "for images in image:\n",
    "    Images.append(images.get_attribute('src'))\n",
    "#Images = Images[:19]\n",
    "\n",
    "len(Images)"
   ]
  },
  {
   "cell_type": "code",
   "execution_count": 18,
   "metadata": {},
   "outputs": [
    {
     "data": {
      "text/plain": [
       "56"
      ]
     },
     "execution_count": 18,
     "metadata": {},
     "output_type": "execute_result"
    }
   ],
   "source": [
    "I = []\n",
    "for images in prime:\n",
    "    I.append(images.get_attribute('aria-label'))\n",
    "#Images = Images[:19]\n",
    "\n",
    "len(I)"
   ]
  },
  {
   "cell_type": "markdown",
   "metadata": {},
   "source": [
    "## Price"
   ]
  },
  {
   "cell_type": "code",
   "execution_count": 66,
   "metadata": {},
   "outputs": [],
   "source": [
    "numero=[]\n",
    "\n",
    "for i in price :\n",
    "    if (i.get_attribute(\"innerHTML\") != \"null\") :\n",
    "        numero.append(i.get_attribute(\"innerHTML\"))\n",
    "\n"
   ]
  },
  {
   "cell_type": "code",
   "execution_count": null,
   "metadata": {},
   "outputs": [],
   "source": []
  },
  {
   "cell_type": "code",
   "execution_count": 85,
   "metadata": {},
   "outputs": [
    {
     "data": {
      "text/plain": [
       "[16.94,\n",
       " 439.99,\n",
       " 209.99,\n",
       " 589.99,\n",
       " 358.99,\n",
       " 199.0,\n",
       " 299.99,\n",
       " 499.0,\n",
       " 759.99,\n",
       " 592.9,\n",
       " 599.0,\n",
       " 650.57,\n",
       " 669.99,\n",
       " 838.9,\n",
       " 429.9,\n",
       " 584.9,\n",
       " 2198.99,\n",
       " 96.0,\n",
       " 15.98,\n",
       " 69.99,\n",
       " 549.99,\n",
       " 566.07,\n",
       " 364.76,\n",
       " 639.99,\n",
       " 169.0,\n",
       " 776.56,\n",
       " 770.05,\n",
       " 838.9,\n",
       " 319.0,\n",
       " 362.76,\n",
       " 358.99,\n",
       " 1198.9,\n",
       " 1259.99,\n",
       " 515.37,\n",
       " 249.0,\n",
       " 175.0,\n",
       " 74.99,\n",
       " 105.0,\n",
       " 122.95]"
      ]
     },
     "execution_count": 85,
     "metadata": {},
     "output_type": "execute_result"
    }
   ],
   "source": [
    "Price =[]\n",
    "for prices in numero:\n",
    "    \n",
    "    Price.append(prices.replace('.',''))\n",
    "    \n",
    "Price\n",
    "Prices=[]\n",
    "\n",
    "for e in Price:\n",
    "    if type(e) == str:\n",
    "        Prices.append(e.replace(',','.'))\n",
    "\n",
    "Price = []\n",
    "for e in Prices:\n",
    "    if type(e) == str:\n",
    "        Price.append(float(e))\n",
    "        \n",
    "Price"
   ]
  },
  {
   "cell_type": "markdown",
   "metadata": {},
   "source": [
    "## Reviews"
   ]
  },
  {
   "cell_type": "code",
   "execution_count": 10,
   "metadata": {},
   "outputs": [
    {
     "data": {
      "text/plain": [
       "293"
      ]
     },
     "execution_count": 10,
     "metadata": {},
     "output_type": "execute_result"
    }
   ],
   "source": [
    "x=[]\n",
    "\n",
    "for i in review :\n",
    "    if (i.get_attribute(\"innerHTML\") != \"null\") :\n",
    "        x.append(i.get_attribute(\"innerHTML\"))\n",
    "\n",
    "len(x)"
   ]
  },
  {
   "cell_type": "code",
   "execution_count": 95,
   "metadata": {},
   "outputs": [
    {
     "data": {
      "text/plain": [
       "[795,\n",
       " 110,\n",
       " 269,\n",
       " 107,\n",
       " 19,\n",
       " 107,\n",
       " 3,\n",
       " 269,\n",
       " 187,\n",
       " 3,\n",
       " 7,\n",
       " 5,\n",
       " 8,\n",
       " 92,\n",
       " 187,\n",
       " 103,\n",
       " 8,\n",
       " 33,\n",
       " 173,\n",
       " 823,\n",
       " 612,\n",
       " 173,\n",
       " 7,\n",
       " 114,\n",
       " 20,\n",
       " 51,\n",
       " 3,\n",
       " 8,\n",
       " 40,\n",
       " 7,\n",
       " 203,\n",
       " 77,\n",
       " 600,\n",
       " 14,\n",
       " 87,\n",
       " 187,\n",
       " 3,\n",
       " 8,\n",
       " 3,\n",
       " 11,\n",
       " 8,\n",
       " 887,\n",
       " 57,\n",
       " 69,\n",
       " 173,\n",
       " 612,\n",
       " 10,\n",
       " 0,\n",
       " 0,\n",
       " 0,\n",
       " 0,\n",
       " 0,\n",
       " 0,\n",
       " 0,\n",
       " 0,\n",
       " 0,\n",
       " 0,\n",
       " 0,\n",
       " 2019,\n",
       " 2018,\n",
       " 2017,\n",
       " 2016,\n",
       " 2015,\n",
       " 2014]"
      ]
     },
     "execution_count": 95,
     "metadata": {},
     "output_type": "execute_result"
    }
   ],
   "source": [
    "\n",
    "u=[]\n",
    "for i in x :\n",
    "    if len(i)<5:\n",
    "        try:\n",
    "            u.append(int(i))\n",
    "        except:\n",
    "            u.append(0)\n",
    "            \n",
    "u"
   ]
  },
  {
   "cell_type": "code",
   "execution_count": 96,
   "metadata": {},
   "outputs": [],
   "source": [
    "df = {\n",
    "    'Item':Items,\n",
    "    'Price':Price,\n",
    "    'Reviews':u,\n",
    "    'Images':Images\n",
    "}"
   ]
  },
  {
   "cell_type": "code",
   "execution_count": 97,
   "metadata": {},
   "outputs": [],
   "source": [
    "df = pd.DataFrame.from_dict(df, orient='index')\n",
    "df = df.transpose()\n",
    "df.to_csv('df.items.csv',index=False)"
   ]
  },
  {
   "cell_type": "code",
   "execution_count": null,
   "metadata": {},
   "outputs": [],
   "source": []
  },
  {
   "cell_type": "code",
   "execution_count": null,
   "metadata": {},
   "outputs": [],
   "source": []
  }
 ],
 "metadata": {
  "kernelspec": {
   "display_name": "Python 3",
   "language": "python",
   "name": "python3"
  },
  "language_info": {
   "codemirror_mode": {
    "name": "ipython",
    "version": 3
   },
   "file_extension": ".py",
   "mimetype": "text/x-python",
   "name": "python",
   "nbconvert_exporter": "python",
   "pygments_lexer": "ipython3",
   "version": "3.8.2"
  }
 },
 "nbformat": 4,
 "nbformat_minor": 4
}
