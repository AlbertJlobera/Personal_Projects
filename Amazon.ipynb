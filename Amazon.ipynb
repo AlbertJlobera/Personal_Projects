{
 "cells": [
  {
   "cell_type": "code",
   "execution_count": 1,
   "metadata": {},
   "outputs": [],
   "source": [
    "from time import sleep\n",
    "from selenium import webdriver\n",
    "from selenium.webdriver.common.by import By\n",
    "from selenium.webdriver.support.ui import WebDriverWait\n",
    "from selenium.webdriver.support import expected_conditions as EC\n",
    "from selenium import webdriver\n",
    "from time import sleep\n",
    "import requests\n",
    "import pandas as pd\n",
    "from bs4 import BeautifulSoup"
   ]
  },
  {
   "cell_type": "markdown",
   "metadata": {},
   "source": [
    "Mínimo: \n",
    "\n",
    "Step 1 - SELENIUM - Entrar en Amazon, loggin, buscar el producto, seleccionar los tres primeros (abriendo, extrayendo info y volviendo atrás) \n",
    "\n",
    "    (LOGGIN)\n",
    "    1.1. Abir chrome desde incógnito\n",
    "    1.2. Abrir item, coger info y volver atrás (repetir)\n",
    "    \n",
    "\n",
    "Step 2 - WEB SCRAPING - Obtener información: nombre del producto, características, imagen, valoraciones y precio\n",
    "        VER VÍDEO: https://www.youtube.com/watch?v=Bg9r_yLk7VY \n",
    "        \n",
    "        2.1. Buscar cómo extraer información (Extra: ver cuántas unidades quedan, las tres reviews más votadas, si es Amazon Prime o no) \n",
    "\n",
    "Step 3 - Enviar email con la info del step 2 \n",
    "\n",
    "Step 4 - Una vez con el item seleccionado, avisar vía email cuando el precio baje de 'X y+ añadir el día en que llegaría\n",
    "\n",
    "Step 5 - Si eliges sí, automáticamente se compra y te llega un email de confirmación\n",
    "\n",
    "BONUS\n",
    "\n",
    "1. Enviar los emails con un pdf con las características\n",
    "2. Después del email del precio más bajo, puedes decidir comprarlo y automáticamente lo hace\n",
    "3. Hacerlo vía pipeline (parámetros: item, precio máximo dispuesto a pagar, valoraciones)\n",
    "\n",
    "\n"
   ]
  },
  {
   "cell_type": "code",
   "execution_count": 124,
   "metadata": {},
   "outputs": [],
   "source": [
    "# incognit not working\n",
    "\n",
    "chrome_options = webdriver.ChromeOptions()\n",
    "chrome_options.add_argument(\"--incognito\")\n",
    "\n",
    "driver = webdriver.Chrome('../chromedriver',options=chrome_options)\n",
    "driver.get(\"https://www.amazon.es/\")\n",
    "\n",
    "\n",
    "\n",
    "\n",
    "#Login: problems not incogint working\n",
    "'''\n",
    "driver.find_element_by_class_name(\"nav-line-2\")\\\n",
    "    .click()\n",
    "driver.find_element_by_class_name(\"a-input-text.a-span12.auth-autofocus.auth-required-field\")\\\n",
    "    .send_keys('dataprojects@outlook.es')\n",
    "sleep(2)\n",
    "driver.find_element_by_class_name(\"a-button-input\")\\\n",
    "    .click()\n",
    "sleep(1)\n",
    "driver.find_element_by_id(\"ap_password\")\\\n",
    "    .send_keys('Madrid2020-')\n",
    "sleep(1)\n",
    "driver.find_element_by_id(\"signInSubmit\")\\\n",
    "    .click()\n",
    "sleep(3)\n",
    "\n",
    "driver.find_element_by_id(\"continue\")\\\n",
    "    .click()\n",
    "'''\n",
    "# -----------------------\n",
    "\n",
    "\n",
    "sleep(3)\n",
    "driver.find_element_by_xpath(\"//input[@id=\\\"twotabsearchtextbox\\\"]\")\\\n",
    "    .send_keys('camara canon A1')\n",
    "sleep(2)\n",
    "driver.find_element_by_xpath(\"//input[contains(@type,'submit')]\")\\\n",
    "    .click()\n",
    "sleep(2)\n",
    "\n",
    "item = driver.find_elements_by_class_name(\"a-size-base-plus.a-color-base.a-text-normal\")\n",
    "\n",
    "price = driver.find_elements_by_class_name(\"a-price-whole\")\n",
    "\n",
    "review = driver.find_elements_by_class_name(\"a-size-base\")\n",
    "\n",
    "prime = driver.find_elements_by_class_name(\"a-icon.a-icon-prime.a-icon-medium\")\n",
    "\n",
    "\n",
    "Deliver = driver.find_elements_by_class_name(\"a-text-bold\")\n",
    "\n",
    "image = driver.find_elements_by_class_name('s-image')\n",
    "\n",
    "\n",
    "\n",
    "\"\"\"\n",
    "driver.find_element_by_id(\"acrCustomerReviewText\")\\\n",
    "    .click()\n",
    "driver.find_element_by_class_name(\"cr-helpful-text\")\\\n",
    "    .click()\n",
    "\"\"\"\n",
    "\n",
    "\n",
    "url = driver.current_url\n"
   ]
  },
  {
   "cell_type": "code",
   "execution_count": 125,
   "metadata": {},
   "outputs": [
    {
     "data": {
      "text/plain": [
       "17"
      ]
     },
     "execution_count": 125,
     "metadata": {},
     "output_type": "execute_result"
    }
   ],
   "source": [
    "Images = []\n",
    "for images in image:\n",
    "    Images.append(images.get_attribute('src'))\n",
    "Images = Images[:19]\n",
    "\n",
    "len(Images)"
   ]
  },
  {
   "cell_type": "code",
   "execution_count": 126,
   "metadata": {},
   "outputs": [
    {
     "name": "stdout",
     "output_type": "stream",
     "text": [
      "14\n"
     ]
    }
   ],
   "source": [
    "Price =[]\n",
    "for prices in price:\n",
    "    Price.append(prices.text.split('\\n'))\n",
    "\n",
    "\n",
    "print(len(Price))"
   ]
  },
  {
   "cell_type": "code",
   "execution_count": 30,
   "metadata": {},
   "outputs": [],
   "source": [
    "import re"
   ]
  },
  {
   "cell_type": "code",
   "execution_count": 127,
   "metadata": {},
   "outputs": [
    {
     "data": {
      "text/plain": [
       "13"
      ]
     },
     "execution_count": 127,
     "metadata": {},
     "output_type": "execute_result"
    }
   ],
   "source": [
    "\n",
    "Reviewss = []\n",
    "for reviews in review:\n",
    "\n",
    "    Reviewss.append(reviews.text.split('\\n'))\n",
    "\n",
    "Review=[]\n",
    "\n",
    "for e in Reviewss:\n",
    "    for i in e:\n",
    "    \n",
    "        if len(i)<=3:\n",
    "            Review.append(i)\n",
    "\n",
    "len(Review)"
   ]
  },
  {
   "cell_type": "code",
   "execution_count": 128,
   "metadata": {},
   "outputs": [
    {
     "data": {
      "text/plain": [
       "17"
      ]
     },
     "execution_count": 128,
     "metadata": {},
     "output_type": "execute_result"
    }
   ],
   "source": [
    "Items = []\n",
    "for items in item: \n",
    "    Items.append(items.text.split('\\n'))\n",
    "    \n",
    "Items=Items[:19]\n",
    "\n",
    "len(Items)"
   ]
  },
  {
   "cell_type": "code",
   "execution_count": 101,
   "metadata": {},
   "outputs": [],
   "source": [
    "import pandas as pd"
   ]
  },
  {
   "cell_type": "code",
   "execution_count": 129,
   "metadata": {},
   "outputs": [],
   "source": [
    "df = {\n",
    "    'Item name':Items,\n",
    "    'Price':Price,\n",
    "    'Reviews': Review,\n",
    "\n",
    "}"
   ]
  },
  {
   "cell_type": "code",
   "execution_count": 113,
   "metadata": {},
   "outputs": [
    {
     "data": {
      "text/plain": [
       "109"
      ]
     },
     "execution_count": 113,
     "metadata": {},
     "output_type": "execute_result"
    }
   ],
   "source": []
  },
  {
   "cell_type": "code",
   "execution_count": 130,
   "metadata": {},
   "outputs": [
    {
     "ename": "ValueError",
     "evalue": "arrays must all be same length",
     "output_type": "error",
     "traceback": [
      "\u001b[0;31m---------------------------------------------------------------------------\u001b[0m",
      "\u001b[0;31mValueError\u001b[0m                                Traceback (most recent call last)",
      "\u001b[0;32m<ipython-input-130-42ba578eb8a5>\u001b[0m in \u001b[0;36m<module>\u001b[0;34m\u001b[0m\n\u001b[0;32m----> 1\u001b[0;31m \u001b[0mdf\u001b[0m \u001b[0;34m=\u001b[0m \u001b[0mpd\u001b[0m\u001b[0;34m.\u001b[0m\u001b[0mDataFrame\u001b[0m\u001b[0;34m(\u001b[0m\u001b[0mdf\u001b[0m\u001b[0;34m)\u001b[0m\u001b[0;34m\u001b[0m\u001b[0;34m\u001b[0m\u001b[0m\n\u001b[0m",
      "\u001b[0;32m/Library/Frameworks/Python.framework/Versions/3.8/lib/python3.8/site-packages/pandas/core/frame.py\u001b[0m in \u001b[0;36m__init__\u001b[0;34m(self, data, index, columns, dtype, copy)\u001b[0m\n\u001b[1;32m    433\u001b[0m             )\n\u001b[1;32m    434\u001b[0m         \u001b[0;32melif\u001b[0m \u001b[0misinstance\u001b[0m\u001b[0;34m(\u001b[0m\u001b[0mdata\u001b[0m\u001b[0;34m,\u001b[0m \u001b[0mdict\u001b[0m\u001b[0;34m)\u001b[0m\u001b[0;34m:\u001b[0m\u001b[0;34m\u001b[0m\u001b[0;34m\u001b[0m\u001b[0m\n\u001b[0;32m--> 435\u001b[0;31m             \u001b[0mmgr\u001b[0m \u001b[0;34m=\u001b[0m \u001b[0minit_dict\u001b[0m\u001b[0;34m(\u001b[0m\u001b[0mdata\u001b[0m\u001b[0;34m,\u001b[0m \u001b[0mindex\u001b[0m\u001b[0;34m,\u001b[0m \u001b[0mcolumns\u001b[0m\u001b[0;34m,\u001b[0m \u001b[0mdtype\u001b[0m\u001b[0;34m=\u001b[0m\u001b[0mdtype\u001b[0m\u001b[0;34m)\u001b[0m\u001b[0;34m\u001b[0m\u001b[0;34m\u001b[0m\u001b[0m\n\u001b[0m\u001b[1;32m    436\u001b[0m         \u001b[0;32melif\u001b[0m \u001b[0misinstance\u001b[0m\u001b[0;34m(\u001b[0m\u001b[0mdata\u001b[0m\u001b[0;34m,\u001b[0m \u001b[0mma\u001b[0m\u001b[0;34m.\u001b[0m\u001b[0mMaskedArray\u001b[0m\u001b[0;34m)\u001b[0m\u001b[0;34m:\u001b[0m\u001b[0;34m\u001b[0m\u001b[0;34m\u001b[0m\u001b[0m\n\u001b[1;32m    437\u001b[0m             \u001b[0;32mimport\u001b[0m \u001b[0mnumpy\u001b[0m\u001b[0;34m.\u001b[0m\u001b[0mma\u001b[0m\u001b[0;34m.\u001b[0m\u001b[0mmrecords\u001b[0m \u001b[0;32mas\u001b[0m \u001b[0mmrecords\u001b[0m\u001b[0;34m\u001b[0m\u001b[0;34m\u001b[0m\u001b[0m\n",
      "\u001b[0;32m/Library/Frameworks/Python.framework/Versions/3.8/lib/python3.8/site-packages/pandas/core/internals/construction.py\u001b[0m in \u001b[0;36minit_dict\u001b[0;34m(data, index, columns, dtype)\u001b[0m\n\u001b[1;32m    252\u001b[0m             \u001b[0marr\u001b[0m \u001b[0;32mif\u001b[0m \u001b[0;32mnot\u001b[0m \u001b[0mis_datetime64tz_dtype\u001b[0m\u001b[0;34m(\u001b[0m\u001b[0marr\u001b[0m\u001b[0;34m)\u001b[0m \u001b[0;32melse\u001b[0m \u001b[0marr\u001b[0m\u001b[0;34m.\u001b[0m\u001b[0mcopy\u001b[0m\u001b[0;34m(\u001b[0m\u001b[0;34m)\u001b[0m \u001b[0;32mfor\u001b[0m \u001b[0marr\u001b[0m \u001b[0;32min\u001b[0m \u001b[0marrays\u001b[0m\u001b[0;34m\u001b[0m\u001b[0;34m\u001b[0m\u001b[0m\n\u001b[1;32m    253\u001b[0m         ]\n\u001b[0;32m--> 254\u001b[0;31m     \u001b[0;32mreturn\u001b[0m \u001b[0marrays_to_mgr\u001b[0m\u001b[0;34m(\u001b[0m\u001b[0marrays\u001b[0m\u001b[0;34m,\u001b[0m \u001b[0mdata_names\u001b[0m\u001b[0;34m,\u001b[0m \u001b[0mindex\u001b[0m\u001b[0;34m,\u001b[0m \u001b[0mcolumns\u001b[0m\u001b[0;34m,\u001b[0m \u001b[0mdtype\u001b[0m\u001b[0;34m=\u001b[0m\u001b[0mdtype\u001b[0m\u001b[0;34m)\u001b[0m\u001b[0;34m\u001b[0m\u001b[0;34m\u001b[0m\u001b[0m\n\u001b[0m\u001b[1;32m    255\u001b[0m \u001b[0;34m\u001b[0m\u001b[0m\n\u001b[1;32m    256\u001b[0m \u001b[0;34m\u001b[0m\u001b[0m\n",
      "\u001b[0;32m/Library/Frameworks/Python.framework/Versions/3.8/lib/python3.8/site-packages/pandas/core/internals/construction.py\u001b[0m in \u001b[0;36marrays_to_mgr\u001b[0;34m(arrays, arr_names, index, columns, dtype)\u001b[0m\n\u001b[1;32m     62\u001b[0m     \u001b[0;31m# figure out the index, if necessary\u001b[0m\u001b[0;34m\u001b[0m\u001b[0;34m\u001b[0m\u001b[0;34m\u001b[0m\u001b[0m\n\u001b[1;32m     63\u001b[0m     \u001b[0;32mif\u001b[0m \u001b[0mindex\u001b[0m \u001b[0;32mis\u001b[0m \u001b[0;32mNone\u001b[0m\u001b[0;34m:\u001b[0m\u001b[0;34m\u001b[0m\u001b[0;34m\u001b[0m\u001b[0m\n\u001b[0;32m---> 64\u001b[0;31m         \u001b[0mindex\u001b[0m \u001b[0;34m=\u001b[0m \u001b[0mextract_index\u001b[0m\u001b[0;34m(\u001b[0m\u001b[0marrays\u001b[0m\u001b[0;34m)\u001b[0m\u001b[0;34m\u001b[0m\u001b[0;34m\u001b[0m\u001b[0m\n\u001b[0m\u001b[1;32m     65\u001b[0m     \u001b[0;32melse\u001b[0m\u001b[0;34m:\u001b[0m\u001b[0;34m\u001b[0m\u001b[0;34m\u001b[0m\u001b[0m\n\u001b[1;32m     66\u001b[0m         \u001b[0mindex\u001b[0m \u001b[0;34m=\u001b[0m \u001b[0mensure_index\u001b[0m\u001b[0;34m(\u001b[0m\u001b[0mindex\u001b[0m\u001b[0;34m)\u001b[0m\u001b[0;34m\u001b[0m\u001b[0;34m\u001b[0m\u001b[0m\n",
      "\u001b[0;32m/Library/Frameworks/Python.framework/Versions/3.8/lib/python3.8/site-packages/pandas/core/internals/construction.py\u001b[0m in \u001b[0;36mextract_index\u001b[0;34m(data)\u001b[0m\n\u001b[1;32m    363\u001b[0m             \u001b[0mlengths\u001b[0m \u001b[0;34m=\u001b[0m \u001b[0mlist\u001b[0m\u001b[0;34m(\u001b[0m\u001b[0mset\u001b[0m\u001b[0;34m(\u001b[0m\u001b[0mraw_lengths\u001b[0m\u001b[0;34m)\u001b[0m\u001b[0;34m)\u001b[0m\u001b[0;34m\u001b[0m\u001b[0;34m\u001b[0m\u001b[0m\n\u001b[1;32m    364\u001b[0m             \u001b[0;32mif\u001b[0m \u001b[0mlen\u001b[0m\u001b[0;34m(\u001b[0m\u001b[0mlengths\u001b[0m\u001b[0;34m)\u001b[0m \u001b[0;34m>\u001b[0m \u001b[0;36m1\u001b[0m\u001b[0;34m:\u001b[0m\u001b[0;34m\u001b[0m\u001b[0;34m\u001b[0m\u001b[0m\n\u001b[0;32m--> 365\u001b[0;31m                 \u001b[0;32mraise\u001b[0m \u001b[0mValueError\u001b[0m\u001b[0;34m(\u001b[0m\u001b[0;34m\"arrays must all be same length\"\u001b[0m\u001b[0;34m)\u001b[0m\u001b[0;34m\u001b[0m\u001b[0;34m\u001b[0m\u001b[0m\n\u001b[0m\u001b[1;32m    366\u001b[0m \u001b[0;34m\u001b[0m\u001b[0m\n\u001b[1;32m    367\u001b[0m             \u001b[0;32mif\u001b[0m \u001b[0mhave_dicts\u001b[0m\u001b[0;34m:\u001b[0m\u001b[0;34m\u001b[0m\u001b[0;34m\u001b[0m\u001b[0m\n",
      "\u001b[0;31mValueError\u001b[0m: arrays must all be same length"
     ]
    }
   ],
   "source": [
    "# add null in case not same length\n",
    "\n",
    "df = pd.DataFrame(df)"
   ]
  },
  {
   "cell_type": "code",
   "execution_count": 123,
   "metadata": {},
   "outputs": [
    {
     "data": {
      "text/html": [
       "<div>\n",
       "<style scoped>\n",
       "    .dataframe tbody tr th:only-of-type {\n",
       "        vertical-align: middle;\n",
       "    }\n",
       "\n",
       "    .dataframe tbody tr th {\n",
       "        vertical-align: top;\n",
       "    }\n",
       "\n",
       "    .dataframe thead th {\n",
       "        text-align: right;\n",
       "    }\n",
       "</style>\n",
       "<table border=\"1\" class=\"dataframe\">\n",
       "  <thead>\n",
       "    <tr style=\"text-align: right;\">\n",
       "      <th></th>\n",
       "      <th>Item name</th>\n",
       "      <th>Price</th>\n",
       "      <th>Reviews</th>\n",
       "    </tr>\n",
       "  </thead>\n",
       "  <tbody>\n",
       "    <tr>\n",
       "      <th>0</th>\n",
       "      <td>[Samsung 4K UHD 2019 65RU8005 - Smart TV de 65...</td>\n",
       "      <td>[759,99]</td>\n",
       "      <td>268</td>\n",
       "    </tr>\n",
       "    <tr>\n",
       "      <th>1</th>\n",
       "      <td>[Samsung 4K UHD 2019 65RU7405, serie RU7400 - ...</td>\n",
       "      <td>[669,99]</td>\n",
       "      <td>268</td>\n",
       "    </tr>\n",
       "    <tr>\n",
       "      <th>2</th>\n",
       "      <td>[Samsung 4K UHD 2019 UE55RU8005 - Smart TV de ...</td>\n",
       "      <td>[589,99]</td>\n",
       "      <td>2</td>\n",
       "    </tr>\n",
       "    <tr>\n",
       "      <th>3</th>\n",
       "      <td>[Samsung Crystal UHD 2020 55TU7105- Smart TV d...</td>\n",
       "      <td>[599,00]</td>\n",
       "      <td>8</td>\n",
       "    </tr>\n",
       "    <tr>\n",
       "      <th>4</th>\n",
       "      <td>[Samsung Crystal UHD 2020 55TU8005 - Smart TV ...</td>\n",
       "      <td>[584,90]</td>\n",
       "      <td>186</td>\n",
       "    </tr>\n",
       "    <tr>\n",
       "      <th>5</th>\n",
       "      <td>[Samsung UE65RU7105 - Smart TV 2019 de 65\" con...</td>\n",
       "      <td>[598,90]</td>\n",
       "      <td>75</td>\n",
       "    </tr>\n",
       "    <tr>\n",
       "      <th>6</th>\n",
       "      <td>[Samsung QLED 4K 2019 65Q64R - Smart TV de 65\"...</td>\n",
       "      <td>[994,95]</td>\n",
       "      <td>59</td>\n",
       "    </tr>\n",
       "    <tr>\n",
       "      <th>7</th>\n",
       "      <td>[Samsung 55NU8005 - Smart TV de 55\" 4K UHD HDR...</td>\n",
       "      <td>[495,45]</td>\n",
       "      <td>20</td>\n",
       "    </tr>\n",
       "    <tr>\n",
       "      <th>8</th>\n",
       "      <td>[Samsung QLED 4K 2019 49Q70R - Smart TV de 49\"...</td>\n",
       "      <td>[1.259,99]</td>\n",
       "      <td>611</td>\n",
       "    </tr>\n",
       "    <tr>\n",
       "      <th>9</th>\n",
       "      <td>[Samsung 50NU7405 - Smart TV de 50\" 4K UHD HDR...</td>\n",
       "      <td>[849,99]</td>\n",
       "      <td>46</td>\n",
       "    </tr>\n",
       "    <tr>\n",
       "      <th>10</th>\n",
       "      <td>[Samsung Ue55Nu7105Kxxc]</td>\n",
       "      <td>[729,99]</td>\n",
       "      <td>3</td>\n",
       "    </tr>\n",
       "    <tr>\n",
       "      <th>11</th>\n",
       "      <td>[Samsung 4K UHD 2019 43RU7405, serie RU7400 - ...</td>\n",
       "      <td>[63,75]</td>\n",
       "      <td>203</td>\n",
       "    </tr>\n",
       "    <tr>\n",
       "      <th>12</th>\n",
       "      <td>[Samsung QLED 4K 2020 65Q70T - Smart TV de 65\"...</td>\n",
       "      <td>[9,56]</td>\n",
       "      <td>59</td>\n",
       "    </tr>\n",
       "    <tr>\n",
       "      <th>13</th>\n",
       "      <td>[Samsung QLED 4K 2019 65Q60R - Smart TV de 65\"...</td>\n",
       "      <td>[34,99]</td>\n",
       "      <td>59</td>\n",
       "    </tr>\n",
       "    <tr>\n",
       "      <th>14</th>\n",
       "      <td>[Samsung TV NU8075 Smart TV de 55\" 4K HDR 10+ ...</td>\n",
       "      <td>[26,99]</td>\n",
       "      <td>375</td>\n",
       "    </tr>\n",
       "    <tr>\n",
       "      <th>15</th>\n",
       "      <td>[Samsung TV NU8075 Smart TV de 49\" 4K HDR 10+ ...</td>\n",
       "      <td>[7,99]</td>\n",
       "      <td>611</td>\n",
       "    </tr>\n",
       "    <tr>\n",
       "      <th>16</th>\n",
       "      <td>[Vogel's EFW 8305, Soporte de pared para TV 40...</td>\n",
       "      <td>[21,99]</td>\n",
       "      <td>17</td>\n",
       "    </tr>\n",
       "    <tr>\n",
       "      <th>17</th>\n",
       "      <td>[Samsung 65NU7405 - Smart TV 65\" 4 K UHD HDR (...</td>\n",
       "      <td>[18,99]</td>\n",
       "      <td>308</td>\n",
       "    </tr>\n",
       "    <tr>\n",
       "      <th>18</th>\n",
       "      <td>[MYHGRC RD-448E - Mando a Distancia de Repuest...</td>\n",
       "      <td>[10,99]</td>\n",
       "      <td>o</td>\n",
       "    </tr>\n",
       "  </tbody>\n",
       "</table>\n",
       "</div>"
      ],
      "text/plain": [
       "                                            Item name       Price Reviews\n",
       "0   [Samsung 4K UHD 2019 65RU8005 - Smart TV de 65...    [759,99]     268\n",
       "1   [Samsung 4K UHD 2019 65RU7405, serie RU7400 - ...    [669,99]     268\n",
       "2   [Samsung 4K UHD 2019 UE55RU8005 - Smart TV de ...    [589,99]       2\n",
       "3   [Samsung Crystal UHD 2020 55TU7105- Smart TV d...    [599,00]       8\n",
       "4   [Samsung Crystal UHD 2020 55TU8005 - Smart TV ...    [584,90]     186\n",
       "5   [Samsung UE65RU7105 - Smart TV 2019 de 65\" con...    [598,90]      75\n",
       "6   [Samsung QLED 4K 2019 65Q64R - Smart TV de 65\"...    [994,95]      59\n",
       "7   [Samsung 55NU8005 - Smart TV de 55\" 4K UHD HDR...    [495,45]      20\n",
       "8   [Samsung QLED 4K 2019 49Q70R - Smart TV de 49\"...  [1.259,99]     611\n",
       "9   [Samsung 50NU7405 - Smart TV de 50\" 4K UHD HDR...    [849,99]      46\n",
       "10                           [Samsung Ue55Nu7105Kxxc]    [729,99]       3\n",
       "11  [Samsung 4K UHD 2019 43RU7405, serie RU7400 - ...     [63,75]     203\n",
       "12  [Samsung QLED 4K 2020 65Q70T - Smart TV de 65\"...      [9,56]      59\n",
       "13  [Samsung QLED 4K 2019 65Q60R - Smart TV de 65\"...     [34,99]      59\n",
       "14  [Samsung TV NU8075 Smart TV de 55\" 4K HDR 10+ ...     [26,99]     375\n",
       "15  [Samsung TV NU8075 Smart TV de 49\" 4K HDR 10+ ...      [7,99]     611\n",
       "16  [Vogel's EFW 8305, Soporte de pared para TV 40...     [21,99]      17\n",
       "17  [Samsung 65NU7405 - Smart TV 65\" 4 K UHD HDR (...     [18,99]     308\n",
       "18  [MYHGRC RD-448E - Mando a Distancia de Repuest...     [10,99]       o"
      ]
     },
     "execution_count": 123,
     "metadata": {},
     "output_type": "execute_result"
    }
   ],
   "source": [
    "df"
   ]
  }
 ],
 "metadata": {
  "kernelspec": {
   "display_name": "Python 3",
   "language": "python",
   "name": "python3"
  },
  "language_info": {
   "codemirror_mode": {
    "name": "ipython",
    "version": 3
   },
   "file_extension": ".py",
   "mimetype": "text/x-python",
   "name": "python",
   "nbconvert_exporter": "python",
   "pygments_lexer": "ipython3",
   "version": "3.8.2"
  }
 },
 "nbformat": 4,
 "nbformat_minor": 4
}
