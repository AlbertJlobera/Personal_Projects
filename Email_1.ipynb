{
 "cells": [
  {
   "cell_type": "code",
   "execution_count": 1,
   "metadata": {},
   "outputs": [],
   "source": [
    "import os\n",
    "import smtplib\n",
    "import dotenv\n",
    "from dotenv import load_dotenv\n",
    "load_dotenv()\n",
    "import pandas as pd"
   ]
  },
  {
   "cell_type": "code",
   "execution_count": 2,
   "metadata": {},
   "outputs": [],
   "source": [
    "df = pd.read_csv('products_ready.csv')"
   ]
  },
  {
   "cell_type": "code",
   "execution_count": 3,
   "metadata": {},
   "outputs": [
    {
     "data": {
      "text/html": [
       "<div>\n",
       "<style scoped>\n",
       "    .dataframe tbody tr th:only-of-type {\n",
       "        vertical-align: middle;\n",
       "    }\n",
       "\n",
       "    .dataframe tbody tr th {\n",
       "        vertical-align: top;\n",
       "    }\n",
       "\n",
       "    .dataframe thead th {\n",
       "        text-align: right;\n",
       "    }\n",
       "</style>\n",
       "<table border=\"1\" class=\"dataframe\">\n",
       "  <thead>\n",
       "    <tr style=\"text-align: right;\">\n",
       "      <th></th>\n",
       "      <th>Item</th>\n",
       "      <th>Price</th>\n",
       "    </tr>\n",
       "  </thead>\n",
       "  <tbody>\n",
       "    <tr>\n",
       "      <th>0</th>\n",
       "      <td>Apple MacBook Pro 16\" - Silber 2019 MVVL2D/A i...</td>\n",
       "      <td>5124.43</td>\n",
       "    </tr>\n",
       "    <tr>\n",
       "      <th>1</th>\n",
       "      <td>Apple MacBook Pro 16\" - Silber 2019 MVVM2D/A i...</td>\n",
       "      <td>3057.92</td>\n",
       "    </tr>\n",
       "    <tr>\n",
       "      <th>2</th>\n",
       "      <td>Apple MacBook Pro 16\" - Space Grau 2019 MVVK2D...</td>\n",
       "      <td>3057.92</td>\n",
       "    </tr>\n",
       "    <tr>\n",
       "      <th>3</th>\n",
       "      <td>Nuevo Apple MacBook Pro (de 16 pulgadas, 16 GB...</td>\n",
       "      <td>2859.00</td>\n",
       "    </tr>\n",
       "    <tr>\n",
       "      <th>4</th>\n",
       "      <td>Apple - MacBook Pro 15\" (All-in-One Desktop PC...</td>\n",
       "      <td>2699.00</td>\n",
       "    </tr>\n",
       "  </tbody>\n",
       "</table>\n",
       "</div>"
      ],
      "text/plain": [
       "                                                Item    Price\n",
       "0  Apple MacBook Pro 16\" - Silber 2019 MVVL2D/A i...  5124.43\n",
       "1  Apple MacBook Pro 16\" - Silber 2019 MVVM2D/A i...  3057.92\n",
       "2  Apple MacBook Pro 16\" - Space Grau 2019 MVVK2D...  3057.92\n",
       "3  Nuevo Apple MacBook Pro (de 16 pulgadas, 16 GB...  2859.00\n",
       "4  Apple - MacBook Pro 15\" (All-in-One Desktop PC...  2699.00"
      ]
     },
     "execution_count": 3,
     "metadata": {},
     "output_type": "execute_result"
    }
   ],
   "source": [
    "df"
   ]
  },
  {
   "cell_type": "markdown",
   "metadata": {},
   "source": [
    "Dejo las imagenes para el PDF"
   ]
  },
  {
   "cell_type": "code",
   "execution_count": 4,
   "metadata": {},
   "outputs": [],
   "source": [
    "df_email = df[['Price','Item']]"
   ]
  },
  {
   "cell_type": "code",
   "execution_count": null,
   "metadata": {},
   "outputs": [],
   "source": []
  },
  {
   "cell_type": "code",
   "execution_count": 5,
   "metadata": {},
   "outputs": [
    {
     "data": {
      "text/html": [
       "<div>\n",
       "<style scoped>\n",
       "    .dataframe tbody tr th:only-of-type {\n",
       "        vertical-align: middle;\n",
       "    }\n",
       "\n",
       "    .dataframe tbody tr th {\n",
       "        vertical-align: top;\n",
       "    }\n",
       "\n",
       "    .dataframe thead th {\n",
       "        text-align: right;\n",
       "    }\n",
       "</style>\n",
       "<table border=\"1\" class=\"dataframe\">\n",
       "  <thead>\n",
       "    <tr style=\"text-align: right;\">\n",
       "      <th></th>\n",
       "      <th>Price</th>\n",
       "      <th>Item</th>\n",
       "    </tr>\n",
       "  </thead>\n",
       "  <tbody>\n",
       "    <tr>\n",
       "      <th>0</th>\n",
       "      <td>5124.43</td>\n",
       "      <td>Apple MacBook Pro 16\" - Silber 2019 MVVL2D/A i...</td>\n",
       "    </tr>\n",
       "    <tr>\n",
       "      <th>1</th>\n",
       "      <td>3057.92</td>\n",
       "      <td>Apple MacBook Pro 16\" - Silber 2019 MVVM2D/A i...</td>\n",
       "    </tr>\n",
       "    <tr>\n",
       "      <th>2</th>\n",
       "      <td>3057.92</td>\n",
       "      <td>Apple MacBook Pro 16\" - Space Grau 2019 MVVK2D...</td>\n",
       "    </tr>\n",
       "    <tr>\n",
       "      <th>3</th>\n",
       "      <td>2859.00</td>\n",
       "      <td>Nuevo Apple MacBook Pro (de 16 pulgadas, 16 GB...</td>\n",
       "    </tr>\n",
       "    <tr>\n",
       "      <th>4</th>\n",
       "      <td>2699.00</td>\n",
       "      <td>Apple - MacBook Pro 15\" (All-in-One Desktop PC...</td>\n",
       "    </tr>\n",
       "  </tbody>\n",
       "</table>\n",
       "</div>"
      ],
      "text/plain": [
       "     Price                                               Item\n",
       "0  5124.43  Apple MacBook Pro 16\" - Silber 2019 MVVL2D/A i...\n",
       "1  3057.92  Apple MacBook Pro 16\" - Silber 2019 MVVM2D/A i...\n",
       "2  3057.92  Apple MacBook Pro 16\" - Space Grau 2019 MVVK2D...\n",
       "3  2859.00  Nuevo Apple MacBook Pro (de 16 pulgadas, 16 GB...\n",
       "4  2699.00  Apple - MacBook Pro 15\" (All-in-One Desktop PC..."
      ]
     },
     "execution_count": 5,
     "metadata": {},
     "output_type": "execute_result"
    }
   ],
   "source": [
    "df_email"
   ]
  },
  {
   "cell_type": "code",
   "execution_count": 6,
   "metadata": {},
   "outputs": [],
   "source": [
    "#df_email = df_email[['o','Price','oo','Item']]"
   ]
  },
  {
   "cell_type": "code",
   "execution_count": 7,
   "metadata": {},
   "outputs": [],
   "source": [
    "df_email.to_csv('Email_1.csv',index=False)"
   ]
  },
  {
   "cell_type": "code",
   "execution_count": 8,
   "metadata": {},
   "outputs": [
    {
     "data": {
      "text/plain": [
       "'Confinamiento2020'"
      ]
     },
     "execution_count": 8,
     "metadata": {},
     "output_type": "execute_result"
    }
   ],
   "source": [
    "sender_email = os.getenv('emailP')\n",
    "receiver_email = os.getenv('email')\n",
    "password = os.getenv('PasswordP')\n",
    "password"
   ]
  },
  {
   "cell_type": "code",
   "execution_count": null,
   "metadata": {},
   "outputs": [],
   "source": [
    "import smtplib\n",
    "import mimetypes\n",
    "from email.mime.multipart import MIMEMultipart\n",
    "from email import encoders\n",
    "from email.message import Message\n",
    "from email.mime.audio import MIMEAudio\n",
    "from email.mime.base import MIMEBase\n",
    "from email.mime.image import MIMEImage\n",
    "from email.mime.text import MIMEText\n",
    "\n",
    "sender_email = os.getenv('emailP')\n",
    "receiver_email = os.getenv('email')\n",
    "password = os.getenv('PasswordP')\n",
    "fileToSend = \"hi.csv\"\n",
    "username = \"user\"\n",
    "\n",
    "\n",
    "msg = MIMEMultipart()\n",
    "msg[\"From\"] = emailfrom\n",
    "msg[\"To\"] = emailto\n",
    "msg[\"Subject\"] = \"help I cannot send an attachment to save my life\"\n",
    "msg.preamble = \"help I cannot send an attachment to save my life\"\n",
    "\n",
    "ctype, encoding = mimetypes.guess_type(fileToSend)\n",
    "if ctype is None or encoding is not None:\n",
    "    ctype = \"application/octet-stream\"\n",
    "\n",
    "maintype, subtype = ctype.split(\"/\", 1)\n",
    "\n",
    "if maintype == \"text\":\n",
    "    fp = open(fileToSend)\n",
    "    # Note: we should handle calculating the charset\n",
    "    attachment = MIMEText(fp.read(), _subtype=subtype)\n",
    "    fp.close()\n",
    "elif maintype == \"image\":\n",
    "    fp = open(fileToSend, \"rb\")\n",
    "    attachment = MIMEImage(fp.read(), _subtype=subtype)\n",
    "    fp.close()\n",
    "elif maintype == \"audio\":\n",
    "    fp = open(fileToSend, \"rb\")\n",
    "    attachment = MIMEAudio(fp.read(), _subtype=subtype)\n",
    "    fp.close()\n",
    "else:\n",
    "    fp = open(fileToSend, \"rb\")\n",
    "    attachment = MIMEBase(maintype, subtype)\n",
    "    attachment.set_payload(fp.read())\n",
    "    fp.close()\n",
    "    encoders.encode_base64(attachment)\n",
    "attachment.add_header(\"Content-Disposition\", \"attachment\", filename=fileToSend)\n",
    "msg.attach(attachment)\n",
    "\n",
    "server = smtplib.SMTP(\"smtp.gmail.com:587\")\n",
    "server.starttls()\n",
    "server.login(username,password)\n",
    "server.sendmail(emailfrom, emailto, msg.as_string())\n",
    "server.quit()"
   ]
  },
  {
   "cell_type": "code",
   "execution_count": 9,
   "metadata": {},
   "outputs": [],
   "source": [
    "def send_mail():\n",
    "\n",
    "    \n",
    "    sender_email = os.getenv('emailP')\n",
    "    receiver_email = os.getenv('email')\n",
    "    password = os.getenv('PasswordP')\n",
    "\n",
    "\n",
    "    server = smtplib.SMTP('smtp.gmail.com',587)\n",
    "    server.ehlo()\n",
    "    server.starttls()\n",
    "    server.ehlo()\n",
    "    \n",
    "    server.login(sender_email,password)\n",
    "    \n",
    "    subject = 'Soy Pythonium, encantado de conocerte'\n",
    "    \n",
    "    body = f'''Buenos día,\\nAquí tienes el producto que me pediste, \n",
    "    te mando una lista de los cinco productos más caros que he econtrado.\n",
    "    \\nDime cual quieres indicando el número que te aparece delante de cada artículo, van del 0 al 4, \n",
    "    necesitaría tambien el precio al cual estarías interesado.\\n\\n\\n{df_email}\\n\\n\\n Te avisaré cuando el precio baje, \n",
    "    si no me indicas un precio estimado te avisaré cuando baje, aun que sea solo un poco :).\\n\\n\n",
    "        Recuerda que me encontrarás en tu terminal con el comando ......\\n\\nTen un buen día!,\\nPythonium'''\n",
    "    \n",
    "    msg = f'Subject:{subject}\\n\\n{body}'.encode()\n",
    "    \n",
    "    \n",
    "    server.sendmail(\n",
    "        sender_email,\n",
    "        receiver_email,\n",
    "        msg\n",
    "    )\n",
    "    \n",
    "    print('Hey email has been sent!')\n",
    "    \n",
    "    server.quit()\n",
    "\n"
   ]
  },
  {
   "cell_type": "code",
   "execution_count": 10,
   "metadata": {},
   "outputs": [
    {
     "name": "stdout",
     "output_type": "stream",
     "text": [
      "Hey email has been sent!\n"
     ]
    }
   ],
   "source": [
    "send_mail()"
   ]
  },
  {
   "cell_type": "markdown",
   "metadata": {},
   "source": [
    "# check for PDF"
   ]
  },
  {
   "cell_type": "code",
   "execution_count": 11,
   "metadata": {},
   "outputs": [],
   "source": [
    "  \n",
    "import smtplib\n",
    "import email,ssl\n",
    "from email import encoders\n",
    "from email.mime.base import MIMEBase\n",
    "from email.mime.multipart import MIMEMultipart\n",
    "from email.mime.text import MIMEText\n",
    "\n",
    "\n",
    "\n",
    "\n",
    "def send_email1():\n",
    "    subject=\"Check out my Proyect 2: Data Pipeline!\"\n",
    "    body = \"\"\"\\\n",
    "    Hola,\n",
    "    Adjunto vas a encontrar una gráfica con los 10 tenistas con mejores resultados en el torneo y año que seleccionado.\n",
    "    Además, estos son los ganadores de Grand Slams de los últimos años (2017,2018,2019) con el número total de titulos(Round), media de juegos por partido y media de sets jugados: {text}\n",
    "    Por último,estos son los datos personales de cada ganador: Nacionalidad, Fecha de Nacimiento, Altura, Ganancias: \n",
    "    \"\"\"\n",
    "    sender_email = os.getenv('email')\n",
    "    receiver_email = os.getenv('email')\n",
    "    password = os.getenv('Password')\n",
    "\n",
    "    message = MIMEMultipart()\n",
    "    message[\"From\"] = sender_email\n",
    "    message[\"To\"] = receiver_email\n",
    "    message[\"Subject\"] = subject\n",
    "    message.attach(MIMEText(body, \"plain\"))\n",
    "    filename = \"Email_1.csv\"\n",
    "    with open(filename, \"rb\") as attachment:\n",
    "        part = MIMEBase(\"application\", \"octet-stream\")\n",
    "        part.set_payload(attachment.read())\n",
    "    encoders.encode_base64(part)\n",
    "    part.add_header(\n",
    "        \"Content-Disposition\",\n",
    "        f\"attachment; filename= {filename}\",\n",
    "    )\n",
    "    message.attach(part)\n",
    "    \n",
    "\n",
    "    context = ssl.create_default_context()\n",
    "    with smtplib.SMTP_SSL(\"smtp.gmail.com\", 465, context=context) as server:\n",
    "        server.login(sender_email, password)\n",
    "        server.sendmail(sender_email, receiver_email,msg)\n",
    "        "
   ]
  }
 ],
 "metadata": {
  "kernelspec": {
   "display_name": "Python 3",
   "language": "python",
   "name": "python3"
  },
  "language_info": {
   "codemirror_mode": {
    "name": "ipython",
    "version": 3
   },
   "file_extension": ".py",
   "mimetype": "text/x-python",
   "name": "python",
   "nbconvert_exporter": "python",
   "pygments_lexer": "ipython3",
   "version": "3.8.2"
  }
 },
 "nbformat": 4,
 "nbformat_minor": 4
}
