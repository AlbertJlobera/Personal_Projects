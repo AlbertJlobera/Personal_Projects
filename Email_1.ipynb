{
 "cells": [
  {
   "cell_type": "code",
   "execution_count": 1,
   "metadata": {},
   "outputs": [],
   "source": [
    "import os\n",
    "import smtplib\n",
    "import dotenv\n",
    "from dotenv import load_dotenv\n",
    "load_dotenv()\n",
    "import pandas as pd"
   ]
  },
  {
   "cell_type": "code",
   "execution_count": 2,
   "metadata": {},
   "outputs": [],
   "source": [
    "df = pd.read_csv('products_ready.csv')"
   ]
  },
  {
   "cell_type": "code",
   "execution_count": 3,
   "metadata": {},
   "outputs": [
    {
     "data": {
      "text/html": [
       "<div>\n",
       "<style scoped>\n",
       "    .dataframe tbody tr th:only-of-type {\n",
       "        vertical-align: middle;\n",
       "    }\n",
       "\n",
       "    .dataframe tbody tr th {\n",
       "        vertical-align: top;\n",
       "    }\n",
       "\n",
       "    .dataframe thead th {\n",
       "        text-align: right;\n",
       "    }\n",
       "</style>\n",
       "<table border=\"1\" class=\"dataframe\">\n",
       "  <thead>\n",
       "    <tr style=\"text-align: right;\">\n",
       "      <th></th>\n",
       "      <th>Item</th>\n",
       "      <th>Price</th>\n",
       "    </tr>\n",
       "  </thead>\n",
       "  <tbody>\n",
       "    <tr>\n",
       "      <th>0</th>\n",
       "      <td>Nuevo Apple MacBook Air (de 13 pulgadas, Intel...</td>\n",
       "      <td>1499.0</td>\n",
       "    </tr>\n",
       "    <tr>\n",
       "      <th>1</th>\n",
       "      <td>Apple MacBook Pro (de 13 pulgadas, Modelo Ante...</td>\n",
       "      <td>1329.0</td>\n",
       "    </tr>\n",
       "    <tr>\n",
       "      <th>2</th>\n",
       "      <td>Apple MacBook Pro (de 13 pulgadas, Modelo Ante...</td>\n",
       "      <td>1329.0</td>\n",
       "    </tr>\n",
       "    <tr>\n",
       "      <th>3</th>\n",
       "      <td>Huawei Matebook 13 - Ordenador portátil Ultraf...</td>\n",
       "      <td>874.0</td>\n",
       "    </tr>\n",
       "    <tr>\n",
       "      <th>4</th>\n",
       "      <td>MOSISO Funda Dura Compatible con 2019 2018 Mac...</td>\n",
       "      <td>269.0</td>\n",
       "    </tr>\n",
       "  </tbody>\n",
       "</table>\n",
       "</div>"
      ],
      "text/plain": [
       "                                                Item   Price\n",
       "0  Nuevo Apple MacBook Air (de 13 pulgadas, Intel...  1499.0\n",
       "1  Apple MacBook Pro (de 13 pulgadas, Modelo Ante...  1329.0\n",
       "2  Apple MacBook Pro (de 13 pulgadas, Modelo Ante...  1329.0\n",
       "3  Huawei Matebook 13 - Ordenador portátil Ultraf...   874.0\n",
       "4  MOSISO Funda Dura Compatible con 2019 2018 Mac...   269.0"
      ]
     },
     "execution_count": 3,
     "metadata": {},
     "output_type": "execute_result"
    }
   ],
   "source": [
    "df"
   ]
  },
  {
   "cell_type": "markdown",
   "metadata": {},
   "source": [
    "Dejo las imagenes para el PDF"
   ]
  },
  {
   "cell_type": "code",
   "execution_count": 4,
   "metadata": {},
   "outputs": [],
   "source": [
    "df_email = df[['Price','Item']]"
   ]
  },
  {
   "cell_type": "code",
   "execution_count": null,
   "metadata": {},
   "outputs": [],
   "source": []
  },
  {
   "cell_type": "code",
   "execution_count": 5,
   "metadata": {},
   "outputs": [
    {
     "data": {
      "text/html": [
       "<div>\n",
       "<style scoped>\n",
       "    .dataframe tbody tr th:only-of-type {\n",
       "        vertical-align: middle;\n",
       "    }\n",
       "\n",
       "    .dataframe tbody tr th {\n",
       "        vertical-align: top;\n",
       "    }\n",
       "\n",
       "    .dataframe thead th {\n",
       "        text-align: right;\n",
       "    }\n",
       "</style>\n",
       "<table border=\"1\" class=\"dataframe\">\n",
       "  <thead>\n",
       "    <tr style=\"text-align: right;\">\n",
       "      <th></th>\n",
       "      <th>Price</th>\n",
       "      <th>Item</th>\n",
       "    </tr>\n",
       "  </thead>\n",
       "  <tbody>\n",
       "    <tr>\n",
       "      <th>0</th>\n",
       "      <td>1499.0</td>\n",
       "      <td>Nuevo Apple MacBook Air (de 13 pulgadas, Intel...</td>\n",
       "    </tr>\n",
       "    <tr>\n",
       "      <th>1</th>\n",
       "      <td>1329.0</td>\n",
       "      <td>Apple MacBook Pro (de 13 pulgadas, Modelo Ante...</td>\n",
       "    </tr>\n",
       "    <tr>\n",
       "      <th>2</th>\n",
       "      <td>1329.0</td>\n",
       "      <td>Apple MacBook Pro (de 13 pulgadas, Modelo Ante...</td>\n",
       "    </tr>\n",
       "    <tr>\n",
       "      <th>3</th>\n",
       "      <td>874.0</td>\n",
       "      <td>Huawei Matebook 13 - Ordenador portátil Ultraf...</td>\n",
       "    </tr>\n",
       "    <tr>\n",
       "      <th>4</th>\n",
       "      <td>269.0</td>\n",
       "      <td>MOSISO Funda Dura Compatible con 2019 2018 Mac...</td>\n",
       "    </tr>\n",
       "  </tbody>\n",
       "</table>\n",
       "</div>"
      ],
      "text/plain": [
       "    Price                                               Item\n",
       "0  1499.0  Nuevo Apple MacBook Air (de 13 pulgadas, Intel...\n",
       "1  1329.0  Apple MacBook Pro (de 13 pulgadas, Modelo Ante...\n",
       "2  1329.0  Apple MacBook Pro (de 13 pulgadas, Modelo Ante...\n",
       "3   874.0  Huawei Matebook 13 - Ordenador portátil Ultraf...\n",
       "4   269.0  MOSISO Funda Dura Compatible con 2019 2018 Mac..."
      ]
     },
     "execution_count": 5,
     "metadata": {},
     "output_type": "execute_result"
    }
   ],
   "source": [
    "df_email"
   ]
  },
  {
   "cell_type": "code",
   "execution_count": 6,
   "metadata": {},
   "outputs": [],
   "source": [
    "#df_email = df_email[['o','Price','oo','Item']]"
   ]
  },
  {
   "cell_type": "code",
   "execution_count": 7,
   "metadata": {},
   "outputs": [],
   "source": [
    "df_email.to_csv('Email_1.csv',index=False)"
   ]
  },
  {
   "cell_type": "code",
   "execution_count": 14,
   "metadata": {},
   "outputs": [
    {
     "data": {
      "text/plain": [
       "'Confinamiento2020'"
      ]
     },
     "execution_count": 14,
     "metadata": {},
     "output_type": "execute_result"
    }
   ],
   "source": [
    "sender_email = os.getenv('emailP')\n",
    "receiver_email = os.getenv('email')\n",
    "password = os.getenv('PasswordP')\n",
    "password"
   ]
  },
  {
   "cell_type": "code",
   "execution_count": 27,
   "metadata": {},
   "outputs": [],
   "source": [
    "def send_mail():\n",
    "\n",
    "    \n",
    "    sender_email = os.getenv('emailP')\n",
    "    receiver_email = os.getenv('email')\n",
    "    password = os.getenv('PasswordP')\n",
    "\n",
    "\n",
    "    server = smtplib.SMTP('smtp.gmail.com',587)\n",
    "    server.ehlo()\n",
    "    server.starttls()\n",
    "    server.ehlo()\n",
    "    \n",
    "    server.login(sender_email,password)\n",
    "    \n",
    "    subject = 'Pythonium, your faithful robot'\n",
    "    \n",
    "    body = f'Hello dear,\\nHere you have the item you requested me before, it is a list of the fifth expensive items I found on Amazon.\\nTell me which one you want and the price you would be able to buy it in your terminal, remember the code you will have to type is the follow ().\\n\\n\\n{df_email}\\n\\n\\n I will let you know when the price goes down to another remainder email.\\n\\nHave a lovely day,\\nPythonium'\n",
    "    \n",
    "    msg = f'Subject:{subject}\\n\\n{body}'.encode()\n",
    "    \n",
    "    \n",
    "    server.sendmail(\n",
    "        sender_email,\n",
    "        receiver_email,\n",
    "        msg\n",
    "    )\n",
    "    \n",
    "    print('Hey email has been sent!')\n",
    "    \n",
    "    server.quit()\n",
    "\n"
   ]
  },
  {
   "cell_type": "code",
   "execution_count": 28,
   "metadata": {},
   "outputs": [
    {
     "ename": "UnicodeEncodeError",
     "evalue": "'ascii' codec can't encode character '\\xe1' in position 609: ordinal not in range(128)",
     "output_type": "error",
     "traceback": [
      "\u001b[0;31m---------------------------------------------------------------------------\u001b[0m",
      "\u001b[0;31mUnicodeEncodeError\u001b[0m                        Traceback (most recent call last)",
      "\u001b[0;32m<ipython-input-28-c599cb89c2b8>\u001b[0m in \u001b[0;36m<module>\u001b[0;34m\u001b[0m\n\u001b[0;32m----> 1\u001b[0;31m \u001b[0msend_mail\u001b[0m\u001b[0;34m(\u001b[0m\u001b[0;34m)\u001b[0m\u001b[0;34m\u001b[0m\u001b[0;34m\u001b[0m\u001b[0m\n\u001b[0m",
      "\u001b[0;32m<ipython-input-27-428d1c41e241>\u001b[0m in \u001b[0;36msend_mail\u001b[0;34m()\u001b[0m\n\u001b[1;32m     21\u001b[0m \u001b[0;34m\u001b[0m\u001b[0m\n\u001b[1;32m     22\u001b[0m \u001b[0;34m\u001b[0m\u001b[0m\n\u001b[0;32m---> 23\u001b[0;31m     server.sendmail(\n\u001b[0m\u001b[1;32m     24\u001b[0m         \u001b[0msender_email\u001b[0m\u001b[0;34m,\u001b[0m\u001b[0;34m\u001b[0m\u001b[0;34m\u001b[0m\u001b[0m\n\u001b[1;32m     25\u001b[0m         \u001b[0mreceiver_email\u001b[0m\u001b[0;34m,\u001b[0m\u001b[0;34m\u001b[0m\u001b[0;34m\u001b[0m\u001b[0m\n",
      "\u001b[0;32m/Library/Frameworks/Python.framework/Versions/3.8/lib/python3.8/smtplib.py\u001b[0m in \u001b[0;36msendmail\u001b[0;34m(self, from_addr, to_addrs, msg, mail_options, rcpt_options)\u001b[0m\n\u001b[1;32m    857\u001b[0m         \u001b[0mesmtp_opts\u001b[0m \u001b[0;34m=\u001b[0m \u001b[0;34m[\u001b[0m\u001b[0;34m]\u001b[0m\u001b[0;34m\u001b[0m\u001b[0;34m\u001b[0m\u001b[0m\n\u001b[1;32m    858\u001b[0m         \u001b[0;32mif\u001b[0m \u001b[0misinstance\u001b[0m\u001b[0;34m(\u001b[0m\u001b[0mmsg\u001b[0m\u001b[0;34m,\u001b[0m \u001b[0mstr\u001b[0m\u001b[0;34m)\u001b[0m\u001b[0;34m:\u001b[0m\u001b[0;34m\u001b[0m\u001b[0;34m\u001b[0m\u001b[0m\n\u001b[0;32m--> 859\u001b[0;31m             \u001b[0mmsg\u001b[0m \u001b[0;34m=\u001b[0m \u001b[0m_fix_eols\u001b[0m\u001b[0;34m(\u001b[0m\u001b[0mmsg\u001b[0m\u001b[0;34m)\u001b[0m\u001b[0;34m.\u001b[0m\u001b[0mencode\u001b[0m\u001b[0;34m(\u001b[0m\u001b[0;34m'ascii'\u001b[0m\u001b[0;34m)\u001b[0m\u001b[0;34m\u001b[0m\u001b[0;34m\u001b[0m\u001b[0m\n\u001b[0m\u001b[1;32m    860\u001b[0m         \u001b[0;32mif\u001b[0m \u001b[0mself\u001b[0m\u001b[0;34m.\u001b[0m\u001b[0mdoes_esmtp\u001b[0m\u001b[0;34m:\u001b[0m\u001b[0;34m\u001b[0m\u001b[0;34m\u001b[0m\u001b[0m\n\u001b[1;32m    861\u001b[0m             \u001b[0;32mif\u001b[0m \u001b[0mself\u001b[0m\u001b[0;34m.\u001b[0m\u001b[0mhas_extn\u001b[0m\u001b[0;34m(\u001b[0m\u001b[0;34m'size'\u001b[0m\u001b[0;34m)\u001b[0m\u001b[0;34m:\u001b[0m\u001b[0;34m\u001b[0m\u001b[0;34m\u001b[0m\u001b[0m\n",
      "\u001b[0;31mUnicodeEncodeError\u001b[0m: 'ascii' codec can't encode character '\\xe1' in position 609: ordinal not in range(128)"
     ]
    }
   ],
   "source": [
    "send_mail()"
   ]
  },
  {
   "cell_type": "markdown",
   "metadata": {},
   "source": [
    "# check for PDF"
   ]
  },
  {
   "cell_type": "code",
   "execution_count": null,
   "metadata": {},
   "outputs": [],
   "source": [
    "  \n",
    "import smtplib\n",
    "import email,ssl\n",
    "from email import encoders\n",
    "from email.mime.base import MIMEBase\n",
    "from email.mime.multipart import MIMEMultipart\n",
    "from email.mime.text import MIMEText\n",
    "\n",
    "\n",
    "\n",
    "\n",
    "def send_email1():\n",
    "    subject=\"Check out my Proyect 2: Data Pipeline!\"\n",
    "    body = \"\"\"\\\n",
    "    Hola,\n",
    "    Adjunto vas a encontrar una gráfica con los 10 tenistas con mejores resultados en el torneo y año que seleccionado.\n",
    "    Además, estos son los ganadores de Grand Slams de los últimos años (2017,2018,2019) con el número total de titulos(Round), media de juegos por partido y media de sets jugados: {text}\n",
    "    Por último,estos son los datos personales de cada ganador: Nacionalidad, Fecha de Nacimiento, Altura, Ganancias: \n",
    "    \"\"\"\n",
    "    sender_email = os.getenv('email')\n",
    "    receiver_email = os.getenv('email')\n",
    "    password = os.getenv('Password')\n",
    "\n",
    "    message = MIMEMultipart()\n",
    "    message[\"From\"] = sender_email\n",
    "    message[\"To\"] = receiver_email\n",
    "    message[\"Subject\"] = subject\n",
    "    message.attach(MIMEText(body, \"plain\"))\n",
    "    # pdf* filename = \"Top 10 players.png\"\n",
    "    #with open(filename, \"rb\") as attachment:\n",
    "        #part = MIMEBase(\"application\", \"octet-stream\")\n",
    "        #part.set_payload(attachment.read())\n",
    "    #encoders.encode_base64(part)\n",
    "    #part.add_header(\n",
    "        #\"Content-Disposition\",\n",
    "        #f\"attachment; filename= {filename}\",\n",
    "    #)\n",
    "    #message.attach(part)\n",
    "    \n",
    "\n",
    "    context = ssl.create_default_context()\n",
    "    with smtplib.SMTP_SSL(\"smtp.gmail.com\", 465, context=context) as server:\n",
    "        server.login(sender_email, password)\n",
    "        server.sendmail(sender_email, receiver_email,msg)\n",
    "        "
   ]
  }
 ],
 "metadata": {
  "kernelspec": {
   "display_name": "Python 3",
   "language": "python",
   "name": "python3"
  },
  "language_info": {
   "codemirror_mode": {
    "name": "ipython",
    "version": 3
   },
   "file_extension": ".py",
   "mimetype": "text/x-python",
   "name": "python",
   "nbconvert_exporter": "python",
   "pygments_lexer": "ipython3",
   "version": "3.8.2"
  }
 },
 "nbformat": 4,
 "nbformat_minor": 4
}
